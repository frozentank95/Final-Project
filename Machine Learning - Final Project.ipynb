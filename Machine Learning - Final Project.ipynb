{
 "cells": [
  {
   "cell_type": "code",
   "execution_count": 1,
   "metadata": {},
   "outputs": [],
   "source": [
    "import numpy as np\n",
    "import pandas as pd\n",
    "import matplotlib.pyplot as plt\n",
    "import seaborn as sns\n",
    "\n",
    "from sklearn.model_selection import train_test_split\n",
    "from sklearn.pipeline import Pipeline\n",
    "from sklearn.compose import ColumnTransformer\n",
    "\n",
    "from jcopml.pipeline import num_pipe, cat_pipe\n",
    "from jcopml.utils import save_model, load_model\n",
    "from jcopml.plot import plot_missing_value\n",
    "from jcopml.feature_importance import mean_score_decrease\n",
    "\n",
    "from sklearn.neighbors import KNeighborsClassifier\n",
    "from sklearn.model_selection import RandomizedSearchCV\n",
    "from jcopml.tuning import random_search_params as rsp\n",
    "\n",
    "from sklearn.metrics import classification_report, confusion_matrix"
   ]
  },
  {
   "cell_type": "code",
   "execution_count": 2,
   "metadata": {},
   "outputs": [],
   "source": [
    "dfraw = pd.read_csv('dfraw.csv')"
   ]
  },
  {
   "cell_type": "code",
   "execution_count": 3,
   "metadata": {},
   "outputs": [
    {
     "data": {
      "text/html": [
       "<div>\n",
       "<style scoped>\n",
       "    .dataframe tbody tr th:only-of-type {\n",
       "        vertical-align: middle;\n",
       "    }\n",
       "\n",
       "    .dataframe tbody tr th {\n",
       "        vertical-align: top;\n",
       "    }\n",
       "\n",
       "    .dataframe thead th {\n",
       "        text-align: right;\n",
       "    }\n",
       "</style>\n",
       "<table border=\"1\" class=\"dataframe\">\n",
       "  <thead>\n",
       "    <tr style=\"text-align: right;\">\n",
       "      <th></th>\n",
       "      <th>Amount given Credit</th>\n",
       "      <th>Gender</th>\n",
       "      <th>Education</th>\n",
       "      <th>Marital Status</th>\n",
       "      <th>Age</th>\n",
       "      <th>Repayment Sep</th>\n",
       "      <th>Repayment Aug</th>\n",
       "      <th>Repayment Jul</th>\n",
       "      <th>Repayment Jun</th>\n",
       "      <th>Repayment May</th>\n",
       "      <th>...</th>\n",
       "      <th>Amount Prev Pay Jul</th>\n",
       "      <th>Amount Prev Pay Jun</th>\n",
       "      <th>Amount Prev Pay May</th>\n",
       "      <th>Amount Prev Pay Apr</th>\n",
       "      <th>Default Payment</th>\n",
       "      <th>Total Bill</th>\n",
       "      <th>Total Pay</th>\n",
       "      <th>Count Late</th>\n",
       "      <th>Mean Pay Late</th>\n",
       "      <th>Debt</th>\n",
       "    </tr>\n",
       "  </thead>\n",
       "  <tbody>\n",
       "    <tr>\n",
       "      <th>0</th>\n",
       "      <td>20000</td>\n",
       "      <td>2</td>\n",
       "      <td>2</td>\n",
       "      <td>1</td>\n",
       "      <td>24</td>\n",
       "      <td>2</td>\n",
       "      <td>2</td>\n",
       "      <td>0</td>\n",
       "      <td>0</td>\n",
       "      <td>0</td>\n",
       "      <td>...</td>\n",
       "      <td>0</td>\n",
       "      <td>0</td>\n",
       "      <td>0</td>\n",
       "      <td>0</td>\n",
       "      <td>1</td>\n",
       "      <td>7704</td>\n",
       "      <td>689</td>\n",
       "      <td>2</td>\n",
       "      <td>0.666667</td>\n",
       "      <td>7015</td>\n",
       "    </tr>\n",
       "    <tr>\n",
       "      <th>1</th>\n",
       "      <td>120000</td>\n",
       "      <td>2</td>\n",
       "      <td>2</td>\n",
       "      <td>2</td>\n",
       "      <td>26</td>\n",
       "      <td>0</td>\n",
       "      <td>2</td>\n",
       "      <td>0</td>\n",
       "      <td>0</td>\n",
       "      <td>0</td>\n",
       "      <td>...</td>\n",
       "      <td>1000</td>\n",
       "      <td>1000</td>\n",
       "      <td>0</td>\n",
       "      <td>2000</td>\n",
       "      <td>1</td>\n",
       "      <td>17077</td>\n",
       "      <td>5000</td>\n",
       "      <td>2</td>\n",
       "      <td>0.666667</td>\n",
       "      <td>12077</td>\n",
       "    </tr>\n",
       "    <tr>\n",
       "      <th>2</th>\n",
       "      <td>90000</td>\n",
       "      <td>2</td>\n",
       "      <td>2</td>\n",
       "      <td>2</td>\n",
       "      <td>34</td>\n",
       "      <td>0</td>\n",
       "      <td>0</td>\n",
       "      <td>0</td>\n",
       "      <td>0</td>\n",
       "      <td>0</td>\n",
       "      <td>...</td>\n",
       "      <td>1000</td>\n",
       "      <td>1000</td>\n",
       "      <td>1000</td>\n",
       "      <td>5000</td>\n",
       "      <td>0</td>\n",
       "      <td>101653</td>\n",
       "      <td>11018</td>\n",
       "      <td>0</td>\n",
       "      <td>0.000000</td>\n",
       "      <td>90635</td>\n",
       "    </tr>\n",
       "    <tr>\n",
       "      <th>3</th>\n",
       "      <td>50000</td>\n",
       "      <td>2</td>\n",
       "      <td>2</td>\n",
       "      <td>1</td>\n",
       "      <td>37</td>\n",
       "      <td>0</td>\n",
       "      <td>0</td>\n",
       "      <td>0</td>\n",
       "      <td>0</td>\n",
       "      <td>0</td>\n",
       "      <td>...</td>\n",
       "      <td>1200</td>\n",
       "      <td>1100</td>\n",
       "      <td>1069</td>\n",
       "      <td>1000</td>\n",
       "      <td>0</td>\n",
       "      <td>231334</td>\n",
       "      <td>8388</td>\n",
       "      <td>0</td>\n",
       "      <td>0.000000</td>\n",
       "      <td>222946</td>\n",
       "    </tr>\n",
       "    <tr>\n",
       "      <th>4</th>\n",
       "      <td>50000</td>\n",
       "      <td>1</td>\n",
       "      <td>2</td>\n",
       "      <td>1</td>\n",
       "      <td>57</td>\n",
       "      <td>0</td>\n",
       "      <td>0</td>\n",
       "      <td>0</td>\n",
       "      <td>0</td>\n",
       "      <td>0</td>\n",
       "      <td>...</td>\n",
       "      <td>10000</td>\n",
       "      <td>9000</td>\n",
       "      <td>689</td>\n",
       "      <td>679</td>\n",
       "      <td>0</td>\n",
       "      <td>109339</td>\n",
       "      <td>59049</td>\n",
       "      <td>0</td>\n",
       "      <td>0.000000</td>\n",
       "      <td>50290</td>\n",
       "    </tr>\n",
       "  </tbody>\n",
       "</table>\n",
       "<p>5 rows × 29 columns</p>\n",
       "</div>"
      ],
      "text/plain": [
       "   Amount given Credit  Gender  Education  Marital Status  Age  Repayment Sep  \\\n",
       "0                20000       2          2               1   24              2   \n",
       "1               120000       2          2               2   26              0   \n",
       "2                90000       2          2               2   34              0   \n",
       "3                50000       2          2               1   37              0   \n",
       "4                50000       1          2               1   57              0   \n",
       "\n",
       "   Repayment Aug  Repayment Jul  Repayment Jun  Repayment May  ...  \\\n",
       "0              2              0              0              0  ...   \n",
       "1              2              0              0              0  ...   \n",
       "2              0              0              0              0  ...   \n",
       "3              0              0              0              0  ...   \n",
       "4              0              0              0              0  ...   \n",
       "\n",
       "   Amount Prev Pay Jul  Amount Prev Pay Jun  Amount Prev Pay May  \\\n",
       "0                    0                    0                    0   \n",
       "1                 1000                 1000                    0   \n",
       "2                 1000                 1000                 1000   \n",
       "3                 1200                 1100                 1069   \n",
       "4                10000                 9000                  689   \n",
       "\n",
       "   Amount Prev Pay Apr  Default Payment  Total Bill  Total Pay  Count Late  \\\n",
       "0                    0                1        7704        689           2   \n",
       "1                 2000                1       17077       5000           2   \n",
       "2                 5000                0      101653      11018           0   \n",
       "3                 1000                0      231334       8388           0   \n",
       "4                  679                0      109339      59049           0   \n",
       "\n",
       "   Mean Pay Late    Debt  \n",
       "0       0.666667    7015  \n",
       "1       0.666667   12077  \n",
       "2       0.000000   90635  \n",
       "3       0.000000  222946  \n",
       "4       0.000000   50290  \n",
       "\n",
       "[5 rows x 29 columns]"
      ]
     },
     "execution_count": 3,
     "metadata": {},
     "output_type": "execute_result"
    }
   ],
   "source": [
    "dfraw.head()"
   ]
  },
  {
   "cell_type": "code",
   "execution_count": 4,
   "metadata": {},
   "outputs": [],
   "source": [
    "df = dfraw.copy()"
   ]
  },
  {
   "cell_type": "markdown",
   "metadata": {},
   "source": [
    "## Feature Engineering"
   ]
  },
  {
   "cell_type": "markdown",
   "metadata": {},
   "source": [
    "### Binning"
   ]
  },
  {
   "cell_type": "code",
   "execution_count": 5,
   "metadata": {},
   "outputs": [
    {
     "data": {
      "text/html": [
       "<div>\n",
       "<style scoped>\n",
       "    .dataframe tbody tr th:only-of-type {\n",
       "        vertical-align: middle;\n",
       "    }\n",
       "\n",
       "    .dataframe tbody tr th {\n",
       "        vertical-align: top;\n",
       "    }\n",
       "\n",
       "    .dataframe thead th {\n",
       "        text-align: right;\n",
       "    }\n",
       "</style>\n",
       "<table border=\"1\" class=\"dataframe\">\n",
       "  <thead>\n",
       "    <tr style=\"text-align: right;\">\n",
       "      <th></th>\n",
       "      <th>Amount given Credit</th>\n",
       "      <th>Gender</th>\n",
       "      <th>Education</th>\n",
       "      <th>Marital Status</th>\n",
       "      <th>Age</th>\n",
       "      <th>Repayment Sep</th>\n",
       "      <th>Repayment Aug</th>\n",
       "      <th>Repayment Jul</th>\n",
       "      <th>Repayment Jun</th>\n",
       "      <th>Repayment May</th>\n",
       "      <th>...</th>\n",
       "      <th>Amount Prev Pay Jul</th>\n",
       "      <th>Amount Prev Pay Jun</th>\n",
       "      <th>Amount Prev Pay May</th>\n",
       "      <th>Amount Prev Pay Apr</th>\n",
       "      <th>Default Payment</th>\n",
       "      <th>Total Bill</th>\n",
       "      <th>Total Pay</th>\n",
       "      <th>Count Late</th>\n",
       "      <th>Mean Pay Late</th>\n",
       "      <th>Debt</th>\n",
       "    </tr>\n",
       "  </thead>\n",
       "  <tbody>\n",
       "    <tr>\n",
       "      <th>0</th>\n",
       "      <td>20000</td>\n",
       "      <td>2</td>\n",
       "      <td>2</td>\n",
       "      <td>1</td>\n",
       "      <td>Young</td>\n",
       "      <td>2</td>\n",
       "      <td>2</td>\n",
       "      <td>0</td>\n",
       "      <td>0</td>\n",
       "      <td>0</td>\n",
       "      <td>...</td>\n",
       "      <td>0</td>\n",
       "      <td>0</td>\n",
       "      <td>0</td>\n",
       "      <td>0</td>\n",
       "      <td>1</td>\n",
       "      <td>7704</td>\n",
       "      <td>689</td>\n",
       "      <td>2</td>\n",
       "      <td>0.666667</td>\n",
       "      <td>7015</td>\n",
       "    </tr>\n",
       "    <tr>\n",
       "      <th>1</th>\n",
       "      <td>120000</td>\n",
       "      <td>2</td>\n",
       "      <td>2</td>\n",
       "      <td>2</td>\n",
       "      <td>Adult</td>\n",
       "      <td>0</td>\n",
       "      <td>2</td>\n",
       "      <td>0</td>\n",
       "      <td>0</td>\n",
       "      <td>0</td>\n",
       "      <td>...</td>\n",
       "      <td>1000</td>\n",
       "      <td>1000</td>\n",
       "      <td>0</td>\n",
       "      <td>2000</td>\n",
       "      <td>1</td>\n",
       "      <td>17077</td>\n",
       "      <td>5000</td>\n",
       "      <td>2</td>\n",
       "      <td>0.666667</td>\n",
       "      <td>12077</td>\n",
       "    </tr>\n",
       "    <tr>\n",
       "      <th>2</th>\n",
       "      <td>90000</td>\n",
       "      <td>2</td>\n",
       "      <td>2</td>\n",
       "      <td>2</td>\n",
       "      <td>Adult</td>\n",
       "      <td>0</td>\n",
       "      <td>0</td>\n",
       "      <td>0</td>\n",
       "      <td>0</td>\n",
       "      <td>0</td>\n",
       "      <td>...</td>\n",
       "      <td>1000</td>\n",
       "      <td>1000</td>\n",
       "      <td>1000</td>\n",
       "      <td>5000</td>\n",
       "      <td>0</td>\n",
       "      <td>101653</td>\n",
       "      <td>11018</td>\n",
       "      <td>0</td>\n",
       "      <td>0.000000</td>\n",
       "      <td>90635</td>\n",
       "    </tr>\n",
       "    <tr>\n",
       "      <th>3</th>\n",
       "      <td>50000</td>\n",
       "      <td>2</td>\n",
       "      <td>2</td>\n",
       "      <td>1</td>\n",
       "      <td>Adult</td>\n",
       "      <td>0</td>\n",
       "      <td>0</td>\n",
       "      <td>0</td>\n",
       "      <td>0</td>\n",
       "      <td>0</td>\n",
       "      <td>...</td>\n",
       "      <td>1200</td>\n",
       "      <td>1100</td>\n",
       "      <td>1069</td>\n",
       "      <td>1000</td>\n",
       "      <td>0</td>\n",
       "      <td>231334</td>\n",
       "      <td>8388</td>\n",
       "      <td>0</td>\n",
       "      <td>0.000000</td>\n",
       "      <td>222946</td>\n",
       "    </tr>\n",
       "    <tr>\n",
       "      <th>4</th>\n",
       "      <td>50000</td>\n",
       "      <td>1</td>\n",
       "      <td>2</td>\n",
       "      <td>1</td>\n",
       "      <td>Old</td>\n",
       "      <td>0</td>\n",
       "      <td>0</td>\n",
       "      <td>0</td>\n",
       "      <td>0</td>\n",
       "      <td>0</td>\n",
       "      <td>...</td>\n",
       "      <td>10000</td>\n",
       "      <td>9000</td>\n",
       "      <td>689</td>\n",
       "      <td>679</td>\n",
       "      <td>0</td>\n",
       "      <td>109339</td>\n",
       "      <td>59049</td>\n",
       "      <td>0</td>\n",
       "      <td>0.000000</td>\n",
       "      <td>50290</td>\n",
       "    </tr>\n",
       "  </tbody>\n",
       "</table>\n",
       "<p>5 rows × 29 columns</p>\n",
       "</div>"
      ],
      "text/plain": [
       "   Amount given Credit  Gender  Education  Marital Status    Age  \\\n",
       "0                20000       2          2               1  Young   \n",
       "1               120000       2          2               2  Adult   \n",
       "2                90000       2          2               2  Adult   \n",
       "3                50000       2          2               1  Adult   \n",
       "4                50000       1          2               1    Old   \n",
       "\n",
       "   Repayment Sep  Repayment Aug  Repayment Jul  Repayment Jun  Repayment May  \\\n",
       "0              2              2              0              0              0   \n",
       "1              0              2              0              0              0   \n",
       "2              0              0              0              0              0   \n",
       "3              0              0              0              0              0   \n",
       "4              0              0              0              0              0   \n",
       "\n",
       "   ...  Amount Prev Pay Jul  Amount Prev Pay Jun  Amount Prev Pay May  \\\n",
       "0  ...                    0                    0                    0   \n",
       "1  ...                 1000                 1000                    0   \n",
       "2  ...                 1000                 1000                 1000   \n",
       "3  ...                 1200                 1100                 1069   \n",
       "4  ...                10000                 9000                  689   \n",
       "\n",
       "   Amount Prev Pay Apr  Default Payment  Total Bill  Total Pay  Count Late  \\\n",
       "0                    0                1        7704        689           2   \n",
       "1                 2000                1       17077       5000           2   \n",
       "2                 5000                0      101653      11018           0   \n",
       "3                 1000                0      231334       8388           0   \n",
       "4                  679                0      109339      59049           0   \n",
       "\n",
       "   Mean Pay Late    Debt  \n",
       "0       0.666667    7015  \n",
       "1       0.666667   12077  \n",
       "2       0.000000   90635  \n",
       "3       0.000000  222946  \n",
       "4       0.000000   50290  \n",
       "\n",
       "[5 rows x 29 columns]"
      ]
     },
     "execution_count": 5,
     "metadata": {},
     "output_type": "execute_result"
    }
   ],
   "source": [
    "df.Age = pd.cut(df.Age,[0,25,40,65,100], labels=('Young','Adult','Old','Elder'))\n",
    "df.head()"
   ]
  },
  {
   "cell_type": "code",
   "execution_count": 6,
   "metadata": {},
   "outputs": [
    {
     "data": {
      "text/plain": [
       "2    14030\n",
       "1    10585\n",
       "3     4917\n",
       "4      468\n",
       "Name: Education, dtype: int64"
      ]
     },
     "execution_count": 6,
     "metadata": {},
     "output_type": "execute_result"
    }
   ],
   "source": [
    "df['Education'].value_counts()"
   ]
  },
  {
   "cell_type": "code",
   "execution_count": 7,
   "metadata": {},
   "outputs": [],
   "source": [
    "num = ['Amount given Credit', 'Repayment Sep', 'Repayment Aug',\n",
    "       'Repayment Jul', 'Repayment Jun', 'Repayment May', 'Repayment Apr',\n",
    "       'Amount of Bill Sep', 'Amount of Bill Aug', 'Amount of Bill Jul',\n",
    "       'Amount of Bill Jun', 'Amount of Bill May', 'Amount of Bill Apr',\n",
    "       'Amount Prev Pay Sep', 'Amount Prev Pay Aug', 'Amount Prev Pay Jul',\n",
    "       'Amount Prev Pay Jun', 'Amount Prev Pay May', 'Amount Prev Pay Apr',\n",
    "       'Total Bill','Total Pay','Count Late','Mean Pay Late','Debt']\n",
    "\n",
    "num1 = ['Amount given Credit','Age','Repayment Sep', 'Repayment Aug',\n",
    "       'Repayment Jul', 'Repayment Jun', 'Repayment May', 'Repayment Apr',\n",
    "       'Amount of Bill Sep', 'Amount of Bill Aug', 'Amount of Bill Jul',\n",
    "       'Amount of Bill Jun', 'Amount of Bill May', 'Amount of Bill Apr',\n",
    "       'Amount Prev Pay Sep', 'Amount Prev Pay Aug', 'Amount Prev Pay Jul',\n",
    "       'Amount Prev Pay Jun', 'Amount Prev Pay May', 'Amount Prev Pay Apr',\n",
    "       'Total Bill','Total Pay','Count Late','Mean Pay Late','Debt']\n",
    "\n",
    "cat = ['Education','Marital Status','Age']\n",
    "cat1 = ['Education','Marital Status']"
   ]
  },
  {
   "cell_type": "code",
   "execution_count": 8,
   "metadata": {
    "scrolled": true
   },
   "outputs": [
    {
     "data": {
      "text/plain": [
       "2    14030\n",
       "1    10585\n",
       "3     4917\n",
       "4      468\n",
       "Name: Education, dtype: int64"
      ]
     },
     "execution_count": 8,
     "metadata": {},
     "output_type": "execute_result"
    }
   ],
   "source": [
    "df['Education'].value_counts()"
   ]
  },
  {
   "cell_type": "code",
   "execution_count": 9,
   "metadata": {},
   "outputs": [
    {
     "data": {
      "text/html": [
       "<div>\n",
       "<style scoped>\n",
       "    .dataframe tbody tr th:only-of-type {\n",
       "        vertical-align: middle;\n",
       "    }\n",
       "\n",
       "    .dataframe tbody tr th {\n",
       "        vertical-align: top;\n",
       "    }\n",
       "\n",
       "    .dataframe thead th {\n",
       "        text-align: right;\n",
       "    }\n",
       "</style>\n",
       "<table border=\"1\" class=\"dataframe\">\n",
       "  <thead>\n",
       "    <tr style=\"text-align: right;\">\n",
       "      <th></th>\n",
       "      <th>Age</th>\n",
       "    </tr>\n",
       "  </thead>\n",
       "  <tbody>\n",
       "    <tr>\n",
       "      <th>count</th>\n",
       "      <td>30000</td>\n",
       "    </tr>\n",
       "    <tr>\n",
       "      <th>unique</th>\n",
       "      <td>4</td>\n",
       "    </tr>\n",
       "    <tr>\n",
       "      <th>top</th>\n",
       "      <td>Adult</td>\n",
       "    </tr>\n",
       "    <tr>\n",
       "      <th>freq</th>\n",
       "      <td>17855</td>\n",
       "    </tr>\n",
       "  </tbody>\n",
       "</table>\n",
       "</div>"
      ],
      "text/plain": [
       "          Age\n",
       "count   30000\n",
       "unique      4\n",
       "top     Adult\n",
       "freq    17855"
      ]
     },
     "execution_count": 9,
     "metadata": {},
     "output_type": "execute_result"
    }
   ],
   "source": [
    "df.describe(exclude=np.number)"
   ]
  },
  {
   "cell_type": "markdown",
   "metadata": {},
   "source": [
    "## Dataset Splitting"
   ]
  },
  {
   "cell_type": "code",
   "execution_count": 10,
   "metadata": {},
   "outputs": [
    {
     "name": "stdout",
     "output_type": "stream",
     "text": [
      "<class 'pandas.core.frame.DataFrame'>\n",
      "RangeIndex: 30000 entries, 0 to 29999\n",
      "Data columns (total 29 columns):\n",
      " #   Column               Non-Null Count  Dtype   \n",
      "---  ------               --------------  -----   \n",
      " 0   Amount given Credit  30000 non-null  int64   \n",
      " 1   Gender               30000 non-null  int64   \n",
      " 2   Education            30000 non-null  int64   \n",
      " 3   Marital Status       30000 non-null  int64   \n",
      " 4   Age                  30000 non-null  category\n",
      " 5   Repayment Sep        30000 non-null  int64   \n",
      " 6   Repayment Aug        30000 non-null  int64   \n",
      " 7   Repayment Jul        30000 non-null  int64   \n",
      " 8   Repayment Jun        30000 non-null  int64   \n",
      " 9   Repayment May        30000 non-null  int64   \n",
      " 10  Repayment Apr        30000 non-null  int64   \n",
      " 11  Amount of Bill Sep   30000 non-null  int64   \n",
      " 12  Amount of Bill Aug   30000 non-null  int64   \n",
      " 13  Amount of Bill Jul   30000 non-null  int64   \n",
      " 14  Amount of Bill Jun   30000 non-null  int64   \n",
      " 15  Amount of Bill May   30000 non-null  int64   \n",
      " 16  Amount of Bill Apr   30000 non-null  int64   \n",
      " 17  Amount Prev Pay Sep  30000 non-null  int64   \n",
      " 18  Amount Prev Pay Aug  30000 non-null  int64   \n",
      " 19  Amount Prev Pay Jul  30000 non-null  int64   \n",
      " 20  Amount Prev Pay Jun  30000 non-null  int64   \n",
      " 21  Amount Prev Pay May  30000 non-null  int64   \n",
      " 22  Amount Prev Pay Apr  30000 non-null  int64   \n",
      " 23  Default Payment      30000 non-null  int64   \n",
      " 24  Total Bill           30000 non-null  int64   \n",
      " 25  Total Pay            30000 non-null  int64   \n",
      " 26  Count Late           30000 non-null  int64   \n",
      " 27  Mean Pay Late        30000 non-null  float64 \n",
      " 28  Debt                 30000 non-null  int64   \n",
      "dtypes: category(1), float64(1), int64(27)\n",
      "memory usage: 6.4 MB\n"
     ]
    }
   ],
   "source": [
    "df.info()"
   ]
  },
  {
   "cell_type": "code",
   "execution_count": 11,
   "metadata": {},
   "outputs": [
    {
     "data": {
      "text/plain": [
       "2    14030\n",
       "1    10585\n",
       "3     4917\n",
       "4      468\n",
       "Name: Education, dtype: int64"
      ]
     },
     "execution_count": 11,
     "metadata": {},
     "output_type": "execute_result"
    }
   ],
   "source": [
    "df['Education'].value_counts()"
   ]
  },
  {
   "cell_type": "code",
   "execution_count": 12,
   "metadata": {},
   "outputs": [
    {
     "data": {
      "text/plain": [
       "((24000, 28), (6000, 28), (24000,), (6000,))"
      ]
     },
     "execution_count": 12,
     "metadata": {},
     "output_type": "execute_result"
    }
   ],
   "source": [
    "X = df.drop(columns='Default Payment')\n",
    "y = df['Default Payment']\n",
    "\n",
    "X_train, X_test, y_train, y_test = train_test_split(X, y, test_size=0.2, stratify=y, random_state=42)\n",
    "X_train.shape, X_test.shape, y_train.shape, y_test.shape"
   ]
  },
  {
   "cell_type": "markdown",
   "metadata": {},
   "source": [
    "## Menggunakan KNN"
   ]
  },
  {
   "cell_type": "code",
   "execution_count": 13,
   "metadata": {},
   "outputs": [
    {
     "name": "stdout",
     "output_type": "stream",
     "text": [
      "Fitting 4 folds for each of 5 candidates, totalling 20 fits\n"
     ]
    },
    {
     "name": "stderr",
     "output_type": "stream",
     "text": [
      "[Parallel(n_jobs=-1)]: Using backend LokyBackend with 4 concurrent workers.\n",
      "[Parallel(n_jobs=-1)]: Done  20 out of  20 | elapsed:  1.2min finished\n"
     ]
    },
    {
     "name": "stdout",
     "output_type": "stream",
     "text": [
      "{'algo__n_neighbors': 39, 'algo__p': 1.7965429868602332, 'algo__weights': 'uniform'}\n",
      "0.7947880732136451 0.7549642641368355 0.7498453896109236\n",
      "              precision    recall  f1-score   support\n",
      "\n",
      "           0       0.84      0.95      0.89      4673\n",
      "           1       0.65      0.34      0.45      1327\n",
      "\n",
      "    accuracy                           0.81      6000\n",
      "   macro avg       0.74      0.64      0.67      6000\n",
      "weighted avg       0.79      0.81      0.79      6000\n",
      "\n"
     ]
    },
    {
     "data": {
      "image/png": "[encoded data removed]",
      "text/plain": [
       "<Figure size 576x360 with 2 Axes>"
      ]
     },
     "metadata": {
      "needs_background": "light"
     },
     "output_type": "display_data"
    }
   ],
   "source": [
    "preprocessorknn = ColumnTransformer([\n",
    "    ('numeric', num_pipe(scaling='robust'), num),\n",
    "    ('categoric', cat_pipe(encoder='onehot'), cat)\n",
    "])\n",
    "\n",
    "pipelineknn = Pipeline([\n",
    "    ('prep', preprocessorknn),\n",
    "    ('algo', KNeighborsClassifier(metric='euclidean'))\n",
    "])\n",
    "\n",
    "model1 = RandomizedSearchCV(pipelineknn, rsp.knn_params, cv=4,scoring='roc_auc', n_iter=5, n_jobs=-1, verbose=1, random_state=42)\n",
    "model1.fit(X_train, y_train)\n",
    "\n",
    "print(model1.best_params_)\n",
    "print(model1.score(X_train, y_train), model1.best_score_, model1.score(X_test, y_test))\n",
    "\n",
    "print(classification_report(y_test,model1.predict(X_test)))\n",
    "\n",
    "f, ax = plt.subplots(figsize=(8,5))\n",
    "sns.heatmap(confusion_matrix(y_test, model1.predict(X_test)), annot=True, fmt=\".0f\", ax=ax)\n",
    "plt.xlabel(\"y Prediksi\")\n",
    "plt.ylabel(\"y Aktual\")\n",
    "plt.show()"
   ]
  },
  {
   "cell_type": "markdown",
   "metadata": {},
   "source": [
    "## Using Logistic Regression"
   ]
  },
  {
   "cell_type": "code",
   "execution_count": 14,
   "metadata": {},
   "outputs": [
    {
     "name": "stdout",
     "output_type": "stream",
     "text": [
      "Fitting 4 folds for each of 5 candidates, totalling 20 fits\n"
     ]
    },
    {
     "name": "stderr",
     "output_type": "stream",
     "text": [
      "[Parallel(n_jobs=-1)]: Using backend LokyBackend with 4 concurrent workers.\n",
      "[Parallel(n_jobs=-1)]: Done  20 out of  20 | elapsed:    4.7s finished\n"
     ]
    },
    {
     "name": "stdout",
     "output_type": "stream",
     "text": [
      "{'algo__C': 0.17670169402947963, 'algo__fit_intercept': True}\n",
      "0.7630220597757833 0.760409746222037 0.7424261873473147\n",
      "              precision    recall  f1-score   support\n",
      "\n",
      "           0       0.83      0.95      0.89      4673\n",
      "           1       0.66      0.33      0.44      1327\n",
      "\n",
      "    accuracy                           0.81      6000\n",
      "   macro avg       0.74      0.64      0.66      6000\n",
      "weighted avg       0.79      0.81      0.79      6000\n",
      "\n"
     ]
    },
    {
     "data": {
      "image/png": "[encoded data removed]",
      "text/plain": [
       "<Figure size 576x360 with 2 Axes>"
      ]
     },
     "metadata": {
      "needs_background": "light"
     },
     "output_type": "display_data"
    }
   ],
   "source": [
    "preprocessorlogreg = ColumnTransformer([\n",
    "    ('numeric', num_pipe(scaling='robust'), num),\n",
    "    ('categoric', cat_pipe(encoder='onehot'), cat)\n",
    "])\n",
    "\n",
    "from sklearn.linear_model import LogisticRegression\n",
    "pipelinelogreg = Pipeline([\n",
    "    ('prep', preprocessorlogreg),\n",
    "    ('algo', LogisticRegression(solver='lbfgs', n_jobs=-1, random_state=42))\n",
    "])\n",
    "\n",
    "from sklearn.model_selection import RandomizedSearchCV\n",
    "from jcopml.tuning import random_search_params as rsp\n",
    "\n",
    "model2 = RandomizedSearchCV(pipelinelogreg, rsp.logreg_params,scoring='roc_auc' ,cv=4, n_iter=5, n_jobs=-1, verbose=1, random_state=42)\n",
    "model2.fit(X_train, y_train)\n",
    "\n",
    "print(model2.best_params_)\n",
    "print(model2.score(X_train, y_train), model2.best_score_, model2.score(X_test, y_test))\n",
    "\n",
    "print(classification_report(y_test,model2.predict(X_test)))\n",
    "\n",
    "f, ax = plt.subplots(figsize=(8,5))\n",
    "sns.heatmap(confusion_matrix(y_test, model2.predict(X_test)), annot=True, fmt=\".0f\", ax=ax)\n",
    "plt.xlabel(\"y Prediksi\")\n",
    "plt.ylabel(\"y Aktual\")\n",
    "plt.show()"
   ]
  },
  {
   "cell_type": "markdown",
   "metadata": {},
   "source": [
    "## Using Random Forest Classifier"
   ]
  },
  {
   "cell_type": "code",
   "execution_count": 15,
   "metadata": {},
   "outputs": [
    {
     "name": "stdout",
     "output_type": "stream",
     "text": [
      "Fitting 4 folds for each of 5 candidates, totalling 20 fits\n"
     ]
    },
    {
     "name": "stderr",
     "output_type": "stream",
     "text": [
      "[Parallel(n_jobs=-1)]: Using backend LokyBackend with 4 concurrent workers.\n",
      "[Parallel(n_jobs=-1)]: Done  20 out of  20 | elapsed:  3.7min finished\n"
     ]
    },
    {
     "name": "stdout",
     "output_type": "stream",
     "text": [
      "{'algo__max_depth': 80, 'algo__max_features': 0.6371651421518384, 'algo__min_samples_leaf': 19, 'algo__n_estimators': 186}\n",
      "0.9091719302606892 0.7794715565835275 0.771729835055912\n",
      "              precision    recall  f1-score   support\n",
      "\n",
      "           0       0.84      0.95      0.89      4673\n",
      "           1       0.66      0.37      0.47      1327\n",
      "\n",
      "    accuracy                           0.82      6000\n",
      "   macro avg       0.75      0.66      0.68      6000\n",
      "weighted avg       0.80      0.82      0.80      6000\n",
      "\n"
     ]
    },
    {
     "data": {
      "image/png": "[encoded data removed]",
      "text/plain": [
       "<Figure size 576x360 with 2 Axes>"
      ]
     },
     "metadata": {
      "needs_background": "light"
     },
     "output_type": "display_data"
    }
   ],
   "source": [
    "preprocessorrf = ColumnTransformer([\n",
    "    ('numeric', num_pipe(scaling='robust'), num),\n",
    "    ('categoric', cat_pipe(encoder='onehot'), cat)\n",
    "])\n",
    "\n",
    "from sklearn.ensemble import RandomForestClassifier\n",
    "pipelinerf = Pipeline([\n",
    "    ('prep', preprocessorrf),\n",
    "    ('algo', RandomForestClassifier(n_jobs=-1, random_state=42))\n",
    "])\n",
    "\n",
    "from sklearn.model_selection import RandomizedSearchCV\n",
    "from jcopml.tuning import random_search_params as rsp\n",
    "\n",
    "model3 = RandomizedSearchCV(pipelinerf, rsp.rf_params, cv=4,scoring='roc_auc', n_iter=5, n_jobs=-1, verbose=1, random_state=42)\n",
    "model3.fit(X_train, y_train)\n",
    "\n",
    "print(model3.best_params_)\n",
    "print(model3.score(X_train, y_train), model3.best_score_, model3.score(X_test, y_test))\n",
    "\n",
    "print(classification_report(y_test,model3.predict(X_test)))\n",
    "\n",
    "f, ax = plt.subplots(figsize=(8,5))\n",
    "sns.heatmap(confusion_matrix(y_test, model3.predict(X_test)), annot=True, fmt=\".0f\", ax=ax)\n",
    "plt.xlabel(\"y Prediksi\")\n",
    "plt.ylabel(\"y Aktual\")\n",
    "plt.show()"
   ]
  },
  {
   "cell_type": "markdown",
   "metadata": {},
   "source": [
    "## Using SVC"
   ]
  },
  {
   "cell_type": "code",
   "execution_count": 16,
   "metadata": {},
   "outputs": [
    {
     "name": "stdout",
     "output_type": "stream",
     "text": [
      "Fitting 4 folds for each of 5 candidates, totalling 20 fits\n"
     ]
    },
    {
     "name": "stderr",
     "output_type": "stream",
     "text": [
      "[Parallel(n_jobs=-1)]: Using backend LokyBackend with 4 concurrent workers.\n",
      "[Parallel(n_jobs=-1)]: Done  20 out of  20 | elapsed:   15.4s finished\n",
      "/opt/anaconda3/lib/python3.7/site-packages/sklearn/svm/_base.py:249: ConvergenceWarning: Solver terminated early (max_iter=500).  Consider pre-processing your data with StandardScaler or MinMaxScaler.\n",
      "  % self.max_iter, ConvergenceWarning)\n"
     ]
    },
    {
     "name": "stdout",
     "output_type": "stream",
     "text": [
      "{'algo__C': 0.17670169402947963, 'algo__gamma': 506.1576888752313}\n",
      "0.588739186177188 0.5223988181339518 0.5402487731554759\n",
      "              precision    recall  f1-score   support\n",
      "\n",
      "           0       0.83      0.20      0.33      4673\n",
      "           1       0.23      0.86      0.37      1327\n",
      "\n",
      "    accuracy                           0.35      6000\n",
      "   macro avg       0.53      0.53      0.35      6000\n",
      "weighted avg       0.70      0.35      0.33      6000\n",
      "\n"
     ]
    },
    {
     "data": {
      "image/png": "[encoded data removed]",
      "text/plain": [
       "<Figure size 576x360 with 2 Axes>"
      ]
     },
     "metadata": {
      "needs_background": "light"
     },
     "output_type": "display_data"
    }
   ],
   "source": [
    "preprocessorsvc = ColumnTransformer([\n",
    "    ('numeric', num_pipe(scaling='robust'), num),\n",
    "    ('categoric', cat_pipe(encoder='onehot'), cat)\n",
    "])\n",
    "\n",
    "from sklearn.svm import SVC\n",
    "pipelinesvc = Pipeline([\n",
    "    ('prep', preprocessorsvc),\n",
    "    ('algo', SVC(max_iter=500))\n",
    "])\n",
    "\n",
    "from sklearn.model_selection import RandomizedSearchCV\n",
    "from jcopml.tuning import random_search_params as rsp\n",
    "\n",
    "model4 = RandomizedSearchCV(pipelinesvc, rsp.svm_params, cv=4,scoring='roc_auc', n_iter=5, n_jobs=-1, verbose=1, random_state=42)\n",
    "model4.fit(X_train, y_train)\n",
    "\n",
    "print(model4.best_params_)\n",
    "print(model4.score(X_train, y_train), model4.best_score_, model4.score(X_test, y_test))\n",
    "\n",
    "print(classification_report(y_test,model4.predict(X_test)))\n",
    "\n",
    "f, ax = plt.subplots(figsize=(8,5))\n",
    "sns.heatmap(confusion_matrix(y_test, model3.predict(X_test)), annot=True, fmt=\".0f\", ax=ax)\n",
    "plt.xlabel(\"y Prediksi\")\n",
    "plt.ylabel(\"y Aktual\")\n",
    "plt.show()"
   ]
  },
  {
   "cell_type": "code",
   "execution_count": 17,
   "metadata": {},
   "outputs": [
    {
     "data": {
      "text/html": [
       "<div>\n",
       "<style scoped>\n",
       "    .dataframe tbody tr th:only-of-type {\n",
       "        vertical-align: middle;\n",
       "    }\n",
       "\n",
       "    .dataframe tbody tr th {\n",
       "        vertical-align: top;\n",
       "    }\n",
       "\n",
       "    .dataframe thead th {\n",
       "        text-align: right;\n",
       "    }\n",
       "</style>\n",
       "<table border=\"1\" class=\"dataframe\">\n",
       "  <thead>\n",
       "    <tr style=\"text-align: right;\">\n",
       "      <th></th>\n",
       "      <th>Model</th>\n",
       "      <th>Model Score</th>\n",
       "      <th>Precision Score</th>\n",
       "      <th>Recall Score</th>\n",
       "      <th>f1 Score</th>\n",
       "      <th>Accuracy Score</th>\n",
       "    </tr>\n",
       "  </thead>\n",
       "  <tbody>\n",
       "    <tr>\n",
       "      <th>0</th>\n",
       "      <td>KNearestNeighbors</td>\n",
       "      <td>0.749845</td>\n",
       "      <td>0.646307</td>\n",
       "      <td>0.342879</td>\n",
       "      <td>0.448055</td>\n",
       "      <td>0.813167</td>\n",
       "    </tr>\n",
       "    <tr>\n",
       "      <th>1</th>\n",
       "      <td>Logistic Regression</td>\n",
       "      <td>0.742426</td>\n",
       "      <td>0.656250</td>\n",
       "      <td>0.332329</td>\n",
       "      <td>0.441221</td>\n",
       "      <td>0.813833</td>\n",
       "    </tr>\n",
       "    <tr>\n",
       "      <th>2</th>\n",
       "      <td>Random Forest</td>\n",
       "      <td>0.771730</td>\n",
       "      <td>0.660763</td>\n",
       "      <td>0.365486</td>\n",
       "      <td>0.470645</td>\n",
       "      <td>0.818167</td>\n",
       "    </tr>\n",
       "    <tr>\n",
       "      <th>3</th>\n",
       "      <td>SVC</td>\n",
       "      <td>0.540249</td>\n",
       "      <td>0.234086</td>\n",
       "      <td>0.859081</td>\n",
       "      <td>0.367920</td>\n",
       "      <td>0.347167</td>\n",
       "    </tr>\n",
       "  </tbody>\n",
       "</table>\n",
       "</div>"
      ],
      "text/plain": [
       "                 Model  Model Score  Precision Score  Recall Score  f1 Score  \\\n",
       "0    KNearestNeighbors     0.749845         0.646307      0.342879  0.448055   \n",
       "1  Logistic Regression     0.742426         0.656250      0.332329  0.441221   \n",
       "2        Random Forest     0.771730         0.660763      0.365486  0.470645   \n",
       "3                  SVC     0.540249         0.234086      0.859081  0.367920   \n",
       "\n",
       "   Accuracy Score  \n",
       "0        0.813167  \n",
       "1        0.813833  \n",
       "2        0.818167  \n",
       "3        0.347167  "
      ]
     },
     "execution_count": 17,
     "metadata": {},
     "output_type": "execute_result"
    }
   ],
   "source": [
    "from sklearn.metrics import precision_score, recall_score, f1_score, accuracy_score\n",
    "\n",
    "f1_scoreKNN = f1_score(y_test, model1.predict(X_test))\n",
    "f1_scoreLR = f1_score(y_test, model2.predict(X_test))\n",
    "f1_scoreRF = f1_score(y_test, model3.predict(X_test))\n",
    "f1_scoreSVC = f1_score(y_test, model4.predict(X_test))\n",
    "\n",
    "precision_scoreKNN = precision_score(y_test, model1.predict(X_test))\n",
    "precision_scoreLR = precision_score(y_test, model2.predict(X_test))\n",
    "precision_scoreRF = precision_score(y_test, model3.predict(X_test))\n",
    "precision_scoreSVC = precision_score(y_test, model4.predict(X_test))\n",
    "\n",
    "\n",
    "recall_scoreKNN = recall_score(y_test, model1.predict(X_test))\n",
    "recall_scoreLR = recall_score(y_test, model2.predict(X_test))\n",
    "recall_scoreRF = recall_score(y_test, model3.predict(X_test))\n",
    "recall_scoreSVC = recall_score(y_test, model4.predict(X_test))\n",
    "\n",
    "\n",
    "accuracy_scoreKNN = accuracy_score(y_test, model1.predict(X_test))\n",
    "accuracy_scoreLR = accuracy_score(y_test, model2.predict(X_test))\n",
    "accuracy_scoreRF = accuracy_score(y_test, model3.predict(X_test))\n",
    "accuracy_scoreSVC = accuracy_score(y_test, model4.predict(X_test))\n",
    "\n",
    "model_scoreKNN = model1.score(X_test, y_test)\n",
    "model_scoreLR = model2.score(X_test, y_test)\n",
    "model_scoreRF = model3.score(X_test, y_test)\n",
    "model_scoreSVC = model4.score(X_test, y_test)\n",
    "\n",
    "\n",
    "scores = {'Model': ['KNearestNeighbors', 'Logistic Regression', 'Random Forest', 'SVC'],\n",
    "          'Model Score' : [model_scoreKNN, model_scoreLR, model_scoreRF, model_scoreSVC],\n",
    "          'Precision Score': [precision_scoreKNN, precision_scoreLR, precision_scoreRF, precision_scoreSVC],\n",
    "         'Recall Score' : [recall_scoreKNN, recall_scoreLR, recall_scoreRF, recall_scoreSVC],\n",
    "          'f1 Score' : [f1_scoreKNN, f1_scoreLR, f1_scoreRF, f1_scoreSVC],\n",
    "         'Accuracy Score' : [accuracy_scoreKNN, accuracy_scoreLR, accuracy_scoreRF, accuracy_scoreSVC]}\n",
    "\n",
    "model_compare = pd.DataFrame(scores, columns=['Model', 'Model Score', 'Precision Score', 'Recall Score', 'f1 Score', 'Accuracy Score'])\n",
    "model_compare"
   ]
  },
  {
   "cell_type": "markdown",
   "metadata": {},
   "source": [
    "## Coba Smote untuk Handling Imbalance Target"
   ]
  },
  {
   "cell_type": "code",
   "execution_count": 18,
   "metadata": {
    "scrolled": true
   },
   "outputs": [
    {
     "name": "stdout",
     "output_type": "stream",
     "text": [
      "(24000, 28) (6000, 28) (24000,) (6000,)\n",
      "Before OverSampling, counts of label '1': 5309\n",
      "Before OverSampling, counts of label '0': 18691 \n",
      "\n",
      "After OverSampling, the shape of train_X: (37382, 28)\n",
      "After OverSampling, the shape of train_y: (37382,) \n",
      "\n",
      "After OverSampling, counts of label '1': 18691\n",
      "After OverSampling, counts of label '0': 18691\n"
     ]
    }
   ],
   "source": [
    "from imblearn.over_sampling import SMOTE\n",
    "\n",
    "X1 = dfraw.drop(columns='Default Payment')\n",
    "y1 = dfraw['Default Payment']\n",
    "\n",
    "X1_train, X1_test, y1_train, y1_test = train_test_split(X1, y1, test_size=0.2,stratify=y, random_state=42)\n",
    "print(X1_train.shape, X1_test.shape, y1_train.shape, y1_test.shape)\n",
    "\n",
    "print(\"Before OverSampling, counts of label '1': {}\".format(sum(y1_train == 1))) \n",
    "print(\"Before OverSampling, counts of label '0': {} \\n\".format(sum(y1_train == 0))) \n",
    "  \n",
    "# import SMOTE module from imblearn library \n",
    "from imblearn.over_sampling import SMOTE \n",
    "sm = SMOTE(random_state = 2) \n",
    "X_train_res, y_train_res = sm.fit_sample(X1_train, y1_train) \n",
    "\n",
    "print('After OverSampling, the shape of train_X: {}'.format(X_train_res.shape)) \n",
    "print('After OverSampling, the shape of train_y: {} \\n'.format(y_train_res.shape)) \n",
    "  \n",
    "print(\"After OverSampling, counts of label '1': {}\".format(sum(y_train_res == 1))) \n",
    "print(\"After OverSampling, counts of label '0': {}\".format(sum(y_train_res == 0))) "
   ]
  },
  {
   "cell_type": "code",
   "execution_count": 19,
   "metadata": {},
   "outputs": [
    {
     "name": "stdout",
     "output_type": "stream",
     "text": [
      "Fitting 4 folds for each of 5 candidates, totalling 20 fits\n"
     ]
    },
    {
     "name": "stderr",
     "output_type": "stream",
     "text": [
      "[Parallel(n_jobs=-1)]: Using backend LokyBackend with 4 concurrent workers.\n",
      "[Parallel(n_jobs=-1)]: Done  20 out of  20 | elapsed:  5.2min finished\n"
     ]
    },
    {
     "name": "stdout",
     "output_type": "stream",
     "text": [
      "{'algo__max_depth': 22, 'algo__max_features': 0.1185260448662222, 'algo__min_samples_leaf': 2, 'algo__n_estimators': 187}\n",
      "0.9975617016966262 0.92267903388128 0.7594216386169421\n",
      "              precision    recall  f1-score   support\n",
      "\n",
      "           0       0.86      0.88      0.87      4673\n",
      "           1       0.54      0.50      0.52      1327\n",
      "\n",
      "    accuracy                           0.80      6000\n",
      "   macro avg       0.70      0.69      0.69      6000\n",
      "weighted avg       0.79      0.80      0.79      6000\n",
      "\n"
     ]
    },
    {
     "data": {
      "image/png": "[encoded data removed]",
      "text/plain": [
       "<Figure size 576x360 with 2 Axes>"
      ]
     },
     "metadata": {
      "needs_background": "light"
     },
     "output_type": "display_data"
    }
   ],
   "source": [
    "preprocessorrf = ColumnTransformer([\n",
    "    ('numeric', num_pipe(scaling='robust'), num1),\n",
    "    ('categoric', cat_pipe(encoder='onehot'), cat1)\n",
    "])\n",
    "\n",
    "from sklearn.ensemble import RandomForestClassifier\n",
    "pipelinerf = Pipeline([\n",
    "    ('prep', preprocessorrf),\n",
    "    ('algo', RandomForestClassifier(n_jobs=-1, random_state=42))\n",
    "])\n",
    "\n",
    "from sklearn.model_selection import RandomizedSearchCV\n",
    "from jcopml.tuning import random_search_params as rsp\n",
    "\n",
    "model5 = RandomizedSearchCV(pipelinerf, rsp.rf_params, cv=4,scoring='roc_auc', n_iter=5, n_jobs=-1, verbose=1, random_state=42)\n",
    "model5.fit(X_train_res, y_train_res)\n",
    "\n",
    "print(model5.best_params_)\n",
    "print(model5.score(X_train_res, y_train_res), model5.best_score_, model5.score(X1_test, y1_test))\n",
    "\n",
    "print(classification_report(y1_test,model5.predict(X1_test)))\n",
    "\n",
    "f, ax = plt.subplots(figsize=(8,5))\n",
    "sns.heatmap(confusion_matrix(y1_test, model5.predict(X1_test)), annot=True, fmt=\".0f\", ax=ax)\n",
    "plt.xlabel(\"y Prediksi\")\n",
    "plt.ylabel(\"y Aktual\")\n",
    "plt.show()"
   ]
  },
  {
   "cell_type": "markdown",
   "metadata": {},
   "source": [
    "Setelah di SMOTE, nilai recall positive naik, tapi recall negative turun"
   ]
  },
  {
   "cell_type": "code",
   "execution_count": 20,
   "metadata": {},
   "outputs": [
    {
     "name": "stdout",
     "output_type": "stream",
     "text": [
      "Before Undersampling, counts of label '1': 5309\n",
      "Before Undersampling, counts of label '0': 18691 \n",
      "\n",
      "After Undersampling, the shape of train_X: (10618, 28)\n",
      "After Undersampling, the shape of train_y: (10618,) \n",
      "\n",
      "After Undersampling, counts of label '1': 5309\n",
      "After Undersampling, counts of label '0': 5309\n"
     ]
    }
   ],
   "source": [
    "print(\"Before Undersampling, counts of label '1': {}\".format(sum(y1_train == 1))) \n",
    "print(\"Before Undersampling, counts of label '0': {} \\n\".format(sum(y1_train == 0))) \n",
    "  \n",
    "# apply near miss \n",
    "from imblearn.under_sampling import NearMiss \n",
    "nr = NearMiss() \n",
    "  \n",
    "X_train_miss, y_train_miss = nr.fit_sample(X1_train, y1_train.ravel()) \n",
    "  \n",
    "print('After Undersampling, the shape of train_X: {}'.format(X_train_miss.shape)) \n",
    "print('After Undersampling, the shape of train_y: {} \\n'.format(y_train_miss.shape)) \n",
    "  \n",
    "print(\"After Undersampling, counts of label '1': {}\".format(sum(y_train_miss == 1))) \n",
    "print(\"After Undersampling, counts of label '0': {}\".format(sum(y_train_miss == 0))) \n"
   ]
  },
  {
   "cell_type": "code",
   "execution_count": 21,
   "metadata": {},
   "outputs": [
    {
     "name": "stdout",
     "output_type": "stream",
     "text": [
      "Fitting 4 folds for each of 5 candidates, totalling 20 fits\n"
     ]
    },
    {
     "name": "stderr",
     "output_type": "stream",
     "text": [
      "[Parallel(n_jobs=-1)]: Using backend LokyBackend with 4 concurrent workers.\n",
      "[Parallel(n_jobs=-1)]: Done  20 out of  20 | elapsed:  1.1min finished\n"
     ]
    },
    {
     "name": "stdout",
     "output_type": "stream",
     "text": [
      "{'algo__max_depth': 80, 'algo__max_features': 0.6371651421518384, 'algo__min_samples_leaf': 19, 'algo__n_estimators': 186}\n",
      "0.9173501953009069 0.7182183656894461 0.4694043980467245\n",
      "              precision    recall  f1-score   support\n",
      "\n",
      "           0       0.78      0.32      0.45      4673\n",
      "           1       0.22      0.69      0.34      1327\n",
      "\n",
      "    accuracy                           0.40      6000\n",
      "   macro avg       0.50      0.51      0.40      6000\n",
      "weighted avg       0.66      0.40      0.43      6000\n",
      "\n"
     ]
    },
    {
     "data": {
      "image/png": "[encoded data removed]",
      "text/plain": [
       "<Figure size 576x360 with 2 Axes>"
      ]
     },
     "metadata": {
      "needs_background": "light"
     },
     "output_type": "display_data"
    }
   ],
   "source": [
    "preprocessorrf = ColumnTransformer([\n",
    "    ('numeric', num_pipe(scaling='robust'), num1),\n",
    "    ('categoric', cat_pipe(encoder='onehot'), cat1)\n",
    "])\n",
    "\n",
    "from sklearn.ensemble import RandomForestClassifier\n",
    "pipelinerf = Pipeline([\n",
    "    ('prep', preprocessorrf),\n",
    "    ('algo', RandomForestClassifier(n_jobs=-1, random_state=42))\n",
    "])\n",
    "\n",
    "from sklearn.model_selection import RandomizedSearchCV\n",
    "from jcopml.tuning import random_search_params as rsp\n",
    "\n",
    "model6 = RandomizedSearchCV(pipelinerf, rsp.rf_params, cv=4,scoring='roc_auc', n_iter=5, n_jobs=-1, verbose=1, random_state=42)\n",
    "model6.fit(X_train_miss, y_train_miss)\n",
    "\n",
    "print(model6.best_params_)\n",
    "print(model6.score(X_train_miss, y_train_miss), model6.best_score_, model6.score(X1_test, y1_test))\n",
    "\n",
    "print(classification_report(y1_test,model6.predict(X1_test)))\n",
    "\n",
    "f, ax = plt.subplots(figsize=(8,5))\n",
    "sns.heatmap(confusion_matrix(y1_test, model6.predict(X1_test)), annot=True, fmt=\".0f\", ax=ax)\n",
    "plt.xlabel(\"y Prediksi\")\n",
    "plt.ylabel(\"y Aktual\")\n",
    "plt.show()"
   ]
  },
  {
   "cell_type": "markdown",
   "metadata": {},
   "source": [
    "Yang berbahaya dari hasil pemodelan ini adalah, jika model memprediksi 1, padahal actual nya 0, maka saya akan memilih model dengan False Positive Terkecil"
   ]
  },
  {
   "cell_type": "markdown",
   "metadata": {},
   "source": [
    "Feature Importance Model RF SMOTE dengan metode mean_score_decrease"
   ]
  },
  {
   "cell_type": "code",
   "execution_count": 22,
   "metadata": {},
   "outputs": [
    {
     "data": {
      "image/png": "[encoded data removed]",
      "text/plain": [
       "<Figure size 1080x360 with 1 Axes>"
      ]
     },
     "metadata": {
      "needs_background": "light"
     },
     "output_type": "display_data"
    }
   ],
   "source": [
    "from jcopml.feature_importance import mean_score_decrease\n",
    "\n",
    "imp = mean_score_decrease(X_train_res, y_train_res, model5, plot=True)"
   ]
  },
  {
   "cell_type": "code",
   "execution_count": 23,
   "metadata": {},
   "outputs": [
    {
     "data": {
      "text/html": [
       "<div>\n",
       "<style scoped>\n",
       "    .dataframe tbody tr th:only-of-type {\n",
       "        vertical-align: middle;\n",
       "    }\n",
       "\n",
       "    .dataframe tbody tr th {\n",
       "        vertical-align: top;\n",
       "    }\n",
       "\n",
       "    .dataframe thead th {\n",
       "        text-align: right;\n",
       "    }\n",
       "</style>\n",
       "<table border=\"1\" class=\"dataframe\">\n",
       "  <thead>\n",
       "    <tr style=\"text-align: right;\">\n",
       "      <th></th>\n",
       "      <th>Amount given Credit</th>\n",
       "      <th>Gender</th>\n",
       "      <th>Education</th>\n",
       "      <th>Marital Status</th>\n",
       "      <th>Age</th>\n",
       "      <th>Repayment Sep</th>\n",
       "      <th>Repayment Aug</th>\n",
       "      <th>Repayment Jul</th>\n",
       "      <th>Repayment Jun</th>\n",
       "      <th>Repayment May</th>\n",
       "      <th>...</th>\n",
       "      <th>Amount Prev Pay Aug</th>\n",
       "      <th>Amount Prev Pay Jul</th>\n",
       "      <th>Amount Prev Pay Jun</th>\n",
       "      <th>Amount Prev Pay May</th>\n",
       "      <th>Amount Prev Pay Apr</th>\n",
       "      <th>Total Bill</th>\n",
       "      <th>Total Pay</th>\n",
       "      <th>Count Late</th>\n",
       "      <th>Mean Pay Late</th>\n",
       "      <th>Debt</th>\n",
       "    </tr>\n",
       "  </thead>\n",
       "  <tbody>\n",
       "    <tr>\n",
       "      <th>0</th>\n",
       "      <td>160000</td>\n",
       "      <td>2</td>\n",
       "      <td>2</td>\n",
       "      <td>2</td>\n",
       "      <td>33</td>\n",
       "      <td>2</td>\n",
       "      <td>2</td>\n",
       "      <td>3</td>\n",
       "      <td>2</td>\n",
       "      <td>0</td>\n",
       "      <td>...</td>\n",
       "      <td>0</td>\n",
       "      <td>0</td>\n",
       "      <td>6100</td>\n",
       "      <td>12300</td>\n",
       "      <td>6100</td>\n",
       "      <td>992940</td>\n",
       "      <td>39500</td>\n",
       "      <td>4</td>\n",
       "      <td>1.500000</td>\n",
       "      <td>953440</td>\n",
       "    </tr>\n",
       "    <tr>\n",
       "      <th>1</th>\n",
       "      <td>150000</td>\n",
       "      <td>2</td>\n",
       "      <td>1</td>\n",
       "      <td>2</td>\n",
       "      <td>34</td>\n",
       "      <td>1</td>\n",
       "      <td>0</td>\n",
       "      <td>0</td>\n",
       "      <td>0</td>\n",
       "      <td>0</td>\n",
       "      <td>...</td>\n",
       "      <td>0</td>\n",
       "      <td>0</td>\n",
       "      <td>0</td>\n",
       "      <td>0</td>\n",
       "      <td>0</td>\n",
       "      <td>53</td>\n",
       "      <td>53</td>\n",
       "      <td>1</td>\n",
       "      <td>0.166667</td>\n",
       "      <td>0</td>\n",
       "    </tr>\n",
       "    <tr>\n",
       "      <th>2</th>\n",
       "      <td>10000</td>\n",
       "      <td>1</td>\n",
       "      <td>2</td>\n",
       "      <td>1</td>\n",
       "      <td>50</td>\n",
       "      <td>1</td>\n",
       "      <td>2</td>\n",
       "      <td>0</td>\n",
       "      <td>0</td>\n",
       "      <td>0</td>\n",
       "      <td>...</td>\n",
       "      <td>1281</td>\n",
       "      <td>1134</td>\n",
       "      <td>294</td>\n",
       "      <td>305</td>\n",
       "      <td>1000</td>\n",
       "      <td>51461</td>\n",
       "      <td>4016</td>\n",
       "      <td>2</td>\n",
       "      <td>0.500000</td>\n",
       "      <td>47445</td>\n",
       "    </tr>\n",
       "    <tr>\n",
       "      <th>3</th>\n",
       "      <td>220000</td>\n",
       "      <td>2</td>\n",
       "      <td>1</td>\n",
       "      <td>2</td>\n",
       "      <td>29</td>\n",
       "      <td>0</td>\n",
       "      <td>0</td>\n",
       "      <td>0</td>\n",
       "      <td>0</td>\n",
       "      <td>0</td>\n",
       "      <td>...</td>\n",
       "      <td>9000</td>\n",
       "      <td>7887</td>\n",
       "      <td>4800</td>\n",
       "      <td>4900</td>\n",
       "      <td>6000</td>\n",
       "      <td>1117574</td>\n",
       "      <td>41687</td>\n",
       "      <td>0</td>\n",
       "      <td>0.000000</td>\n",
       "      <td>1075887</td>\n",
       "    </tr>\n",
       "    <tr>\n",
       "      <th>4</th>\n",
       "      <td>310000</td>\n",
       "      <td>2</td>\n",
       "      <td>1</td>\n",
       "      <td>2</td>\n",
       "      <td>32</td>\n",
       "      <td>1</td>\n",
       "      <td>0</td>\n",
       "      <td>0</td>\n",
       "      <td>0</td>\n",
       "      <td>0</td>\n",
       "      <td>...</td>\n",
       "      <td>326</td>\n",
       "      <td>0</td>\n",
       "      <td>0</td>\n",
       "      <td>0</td>\n",
       "      <td>1200</td>\n",
       "      <td>182</td>\n",
       "      <td>1526</td>\n",
       "      <td>1</td>\n",
       "      <td>0.166667</td>\n",
       "      <td>0</td>\n",
       "    </tr>\n",
       "    <tr>\n",
       "      <th>...</th>\n",
       "      <td>...</td>\n",
       "      <td>...</td>\n",
       "      <td>...</td>\n",
       "      <td>...</td>\n",
       "      <td>...</td>\n",
       "      <td>...</td>\n",
       "      <td>...</td>\n",
       "      <td>...</td>\n",
       "      <td>...</td>\n",
       "      <td>...</td>\n",
       "      <td>...</td>\n",
       "      <td>...</td>\n",
       "      <td>...</td>\n",
       "      <td>...</td>\n",
       "      <td>...</td>\n",
       "      <td>...</td>\n",
       "      <td>...</td>\n",
       "      <td>...</td>\n",
       "      <td>...</td>\n",
       "      <td>...</td>\n",
       "      <td>...</td>\n",
       "    </tr>\n",
       "    <tr>\n",
       "      <th>37377</th>\n",
       "      <td>140000</td>\n",
       "      <td>2</td>\n",
       "      <td>1</td>\n",
       "      <td>1</td>\n",
       "      <td>41</td>\n",
       "      <td>1</td>\n",
       "      <td>2</td>\n",
       "      <td>0</td>\n",
       "      <td>1</td>\n",
       "      <td>1</td>\n",
       "      <td>...</td>\n",
       "      <td>233</td>\n",
       "      <td>169</td>\n",
       "      <td>772</td>\n",
       "      <td>198</td>\n",
       "      <td>342</td>\n",
       "      <td>4733</td>\n",
       "      <td>1717</td>\n",
       "      <td>3</td>\n",
       "      <td>1.492363</td>\n",
       "      <td>3016</td>\n",
       "    </tr>\n",
       "    <tr>\n",
       "      <th>37378</th>\n",
       "      <td>50000</td>\n",
       "      <td>1</td>\n",
       "      <td>2</td>\n",
       "      <td>1</td>\n",
       "      <td>40</td>\n",
       "      <td>0</td>\n",
       "      <td>0</td>\n",
       "      <td>0</td>\n",
       "      <td>0</td>\n",
       "      <td>0</td>\n",
       "      <td>...</td>\n",
       "      <td>2945</td>\n",
       "      <td>3239</td>\n",
       "      <td>1445</td>\n",
       "      <td>722</td>\n",
       "      <td>1973</td>\n",
       "      <td>218358</td>\n",
       "      <td>12437</td>\n",
       "      <td>0</td>\n",
       "      <td>0.000000</td>\n",
       "      <td>205921</td>\n",
       "    </tr>\n",
       "    <tr>\n",
       "      <th>37379</th>\n",
       "      <td>108697</td>\n",
       "      <td>1</td>\n",
       "      <td>2</td>\n",
       "      <td>1</td>\n",
       "      <td>45</td>\n",
       "      <td>2</td>\n",
       "      <td>0</td>\n",
       "      <td>0</td>\n",
       "      <td>0</td>\n",
       "      <td>0</td>\n",
       "      <td>...</td>\n",
       "      <td>5558</td>\n",
       "      <td>7407</td>\n",
       "      <td>2351</td>\n",
       "      <td>2881</td>\n",
       "      <td>39039</td>\n",
       "      <td>713765</td>\n",
       "      <td>116688</td>\n",
       "      <td>1</td>\n",
       "      <td>0.478297</td>\n",
       "      <td>597077</td>\n",
       "    </tr>\n",
       "    <tr>\n",
       "      <th>37380</th>\n",
       "      <td>130000</td>\n",
       "      <td>1</td>\n",
       "      <td>1</td>\n",
       "      <td>1</td>\n",
       "      <td>47</td>\n",
       "      <td>0</td>\n",
       "      <td>0</td>\n",
       "      <td>0</td>\n",
       "      <td>1</td>\n",
       "      <td>0</td>\n",
       "      <td>...</td>\n",
       "      <td>1132</td>\n",
       "      <td>84</td>\n",
       "      <td>24</td>\n",
       "      <td>413</td>\n",
       "      <td>413</td>\n",
       "      <td>3562</td>\n",
       "      <td>2429</td>\n",
       "      <td>0</td>\n",
       "      <td>0.307245</td>\n",
       "      <td>1132</td>\n",
       "    </tr>\n",
       "    <tr>\n",
       "      <th>37381</th>\n",
       "      <td>20000</td>\n",
       "      <td>1</td>\n",
       "      <td>2</td>\n",
       "      <td>1</td>\n",
       "      <td>28</td>\n",
       "      <td>3</td>\n",
       "      <td>2</td>\n",
       "      <td>2</td>\n",
       "      <td>2</td>\n",
       "      <td>1</td>\n",
       "      <td>...</td>\n",
       "      <td>2981</td>\n",
       "      <td>488</td>\n",
       "      <td>127</td>\n",
       "      <td>1313</td>\n",
       "      <td>364</td>\n",
       "      <td>83208</td>\n",
       "      <td>5275</td>\n",
       "      <td>5</td>\n",
       "      <td>2.045104</td>\n",
       "      <td>77933</td>\n",
       "    </tr>\n",
       "  </tbody>\n",
       "</table>\n",
       "<p>37382 rows × 28 columns</p>\n",
       "</div>"
      ],
      "text/plain": [
       "       Amount given Credit  Gender  Education  Marital Status  Age  \\\n",
       "0                   160000       2          2               2   33   \n",
       "1                   150000       2          1               2   34   \n",
       "2                    10000       1          2               1   50   \n",
       "3                   220000       2          1               2   29   \n",
       "4                   310000       2          1               2   32   \n",
       "...                    ...     ...        ...             ...  ...   \n",
       "37377               140000       2          1               1   41   \n",
       "37378                50000       1          2               1   40   \n",
       "37379               108697       1          2               1   45   \n",
       "37380               130000       1          1               1   47   \n",
       "37381                20000       1          2               1   28   \n",
       "\n",
       "       Repayment Sep  Repayment Aug  Repayment Jul  Repayment Jun  \\\n",
       "0                  2              2              3              2   \n",
       "1                  1              0              0              0   \n",
       "2                  1              2              0              0   \n",
       "3                  0              0              0              0   \n",
       "4                  1              0              0              0   \n",
       "...              ...            ...            ...            ...   \n",
       "37377              1              2              0              1   \n",
       "37378              0              0              0              0   \n",
       "37379              2              0              0              0   \n",
       "37380              0              0              0              1   \n",
       "37381              3              2              2              2   \n",
       "\n",
       "       Repayment May  ...  Amount Prev Pay Aug  Amount Prev Pay Jul  \\\n",
       "0                  0  ...                    0                    0   \n",
       "1                  0  ...                    0                    0   \n",
       "2                  0  ...                 1281                 1134   \n",
       "3                  0  ...                 9000                 7887   \n",
       "4                  0  ...                  326                    0   \n",
       "...              ...  ...                  ...                  ...   \n",
       "37377              1  ...                  233                  169   \n",
       "37378              0  ...                 2945                 3239   \n",
       "37379              0  ...                 5558                 7407   \n",
       "37380              0  ...                 1132                   84   \n",
       "37381              1  ...                 2981                  488   \n",
       "\n",
       "       Amount Prev Pay Jun  Amount Prev Pay May  Amount Prev Pay Apr  \\\n",
       "0                     6100                12300                 6100   \n",
       "1                        0                    0                    0   \n",
       "2                      294                  305                 1000   \n",
       "3                     4800                 4900                 6000   \n",
       "4                        0                    0                 1200   \n",
       "...                    ...                  ...                  ...   \n",
       "37377                  772                  198                  342   \n",
       "37378                 1445                  722                 1973   \n",
       "37379                 2351                 2881                39039   \n",
       "37380                   24                  413                  413   \n",
       "37381                  127                 1313                  364   \n",
       "\n",
       "       Total Bill  Total Pay  Count Late  Mean Pay Late     Debt  \n",
       "0          992940      39500           4       1.500000   953440  \n",
       "1              53         53           1       0.166667        0  \n",
       "2           51461       4016           2       0.500000    47445  \n",
       "3         1117574      41687           0       0.000000  1075887  \n",
       "4             182       1526           1       0.166667        0  \n",
       "...           ...        ...         ...            ...      ...  \n",
       "37377        4733       1717           3       1.492363     3016  \n",
       "37378      218358      12437           0       0.000000   205921  \n",
       "37379      713765     116688           1       0.478297   597077  \n",
       "37380        3562       2429           0       0.307245     1132  \n",
       "37381       83208       5275           5       2.045104    77933  \n",
       "\n",
       "[37382 rows x 28 columns]"
      ]
     },
     "execution_count": 23,
     "metadata": {},
     "output_type": "execute_result"
    }
   ],
   "source": [
    "X_train_res"
   ]
  },
  {
   "cell_type": "code",
   "execution_count": 24,
   "metadata": {},
   "outputs": [],
   "source": [
    "X_t = X_train_res[['Mean Pay Late','Marital Status','Education','Amount given Credit','Total Pay','Amount Prev Pay Sep',\n",
    "                 'Amount Prev Pay Aug','Count Late','Amount of Bill Sep']]\n",
    "# X_t = X_train_res[['Mean Pay Late','Amount given Credit','Marital Status']]\n",
    "y_t = y_train_res\n",
    "\n",
    "X_tes = X1_test[['Mean Pay Late','Marital Status','Education','Amount given Credit','Total Pay','Amount Prev Pay Sep',\n",
    "                 'Amount Prev Pay Aug','Count Late','Amount of Bill Sep']]\n",
    "# X_tes = X1_test[['Mean Pay Late','Amount given Credit','Marital Status']]\n",
    "y_tes = y1_test"
   ]
  },
  {
   "cell_type": "code",
   "execution_count": 25,
   "metadata": {},
   "outputs": [
    {
     "name": "stdout",
     "output_type": "stream",
     "text": [
      "Fitting 4 folds for each of 5 candidates, totalling 20 fits\n"
     ]
    },
    {
     "name": "stderr",
     "output_type": "stream",
     "text": [
      "[Parallel(n_jobs=-1)]: Using backend LokyBackend with 4 concurrent workers.\n",
      "[Parallel(n_jobs=-1)]: Done  20 out of  20 | elapsed:  1.8min finished\n"
     ]
    },
    {
     "name": "stdout",
     "output_type": "stream",
     "text": [
      "{'algo__max_depth': 30, 'algo__max_features': 0.5133240027692805, 'algo__min_samples_leaf': 4, 'algo__n_estimators': 123}\n",
      "0.9879299442274627 0.902328182112039 0.7447513502103104\n",
      "              precision    recall  f1-score   support\n",
      "\n",
      "           0       0.85      0.87      0.86      4673\n",
      "           1       0.51      0.45      0.48      1327\n",
      "\n",
      "    accuracy                           0.78      6000\n",
      "   macro avg       0.68      0.66      0.67      6000\n",
      "weighted avg       0.77      0.78      0.78      6000\n",
      "\n"
     ]
    },
    {
     "data": {
      "image/png": "[encoded data removed]",
      "text/plain": [
       "<Figure size 576x360 with 2 Axes>"
      ]
     },
     "metadata": {
      "needs_background": "light"
     },
     "output_type": "display_data"
    }
   ],
   "source": [
    "preprocessorrflast = ColumnTransformer([\n",
    "    ('numeric', num_pipe(scaling='robust'), ['Mean Pay Late','Amount given Credit','Total Pay','Amount Prev Pay Sep',\n",
    "                                            'Amount Prev Pay Aug','Count Late','Amount of Bill Sep']),\n",
    "    ('categoric', cat_pipe(encoder='onehot'), ['Marital Status','Education'])\n",
    "])\n",
    "\n",
    "from sklearn.ensemble import RandomForestClassifier\n",
    "pipelinerflast = Pipeline([\n",
    "    ('prep', preprocessorrflast),\n",
    "    ('algo', RandomForestClassifier(n_jobs=-1, random_state=42))\n",
    "])\n",
    "\n",
    "from sklearn.model_selection import RandomizedSearchCV\n",
    "from jcopml.tuning import random_search_params as rsp\n",
    "\n",
    "model7 = RandomizedSearchCV(pipelinerflast, rsp.rf_params,scoring='roc_auc', cv=4, n_iter=5, n_jobs=-1, verbose=1, random_state=42)\n",
    "model7.fit(X_t, y_t)\n",
    "\n",
    "print(model7.best_params_)\n",
    "print(model7.score(X_t, y_t), model7.best_score_, model7.score(X_tes, y_tes))\n",
    "\n",
    "print(classification_report(y_tes,model7.predict(X_tes)))\n",
    "\n",
    "f, ax = plt.subplots(figsize=(8,5))\n",
    "sns.heatmap(confusion_matrix(y_tes, model7.predict(X_tes)), annot=True, fmt=\".0f\", ax=ax)\n",
    "plt.xlabel(\"y Prediksi\")\n",
    "plt.ylabel(\"y Aktual\")\n",
    "plt.show()"
   ]
  },
  {
   "cell_type": "code",
   "execution_count": 26,
   "metadata": {},
   "outputs": [
    {
     "data": {
      "image/png": "[encoded data removed]",
      "text/plain": [
       "<Figure size 1080x720 with 1 Axes>"
      ]
     },
     "metadata": {
      "needs_background": "light"
     },
     "output_type": "display_data"
    }
   ],
   "source": [
    "from sklearn.metrics import confusion_matrix, classification_report, accuracy_score, plot_roc_curve, roc_auc_score, roc_curve, f1_score\n",
    "\n",
    "plt.figure(figsize = (15,10))\n",
    "ax = plt.gca()\n",
    "\n",
    "plot_roc_curve(model1, X_test, y_test, ax=ax, name='KNN')\n",
    "plot_roc_curve(model2, X_test, y_test, ax=ax, name='LR')\n",
    "plot_roc_curve(model3, X_test, y_test, ax=ax, name='RF')\n",
    "plot_roc_curve(model4, X_test, y_test, ax=ax, name='SVC')\n",
    "plot_roc_curve(model5, X1_test, y1_test, ax=ax, name='RF SMOTE')\n",
    "plot_roc_curve(model7, X_tes, y_tes, ax=ax, name='RF SMOTE FI')\n",
    "\n",
    "plt.title('ROC Curve')\n",
    "plt.show()"
   ]
  },
  {
   "cell_type": "code",
   "execution_count": 27,
   "metadata": {},
   "outputs": [
    {
     "name": "stdout",
     "output_type": "stream",
     "text": [
      "Model is pickled as model/modelRFSM.pkl\n",
      "Model is pickled as model/modelRF.pkl\n",
      "Model is pickled as model/modelRFFI.pkl\n"
     ]
    }
   ],
   "source": [
    "## Saya memilih model RF Smote untuk disimpan\n",
    "\n",
    "save_model(model5.best_estimator_, \"modelRFSM.pkl\")\n",
    "save_model(model3.best_estimator_, 'modelRF.pkl')\n",
    "save_model(model7.best_estimator_, 'modelRFFI.pkl')"
   ]
  },
  {
   "cell_type": "code",
   "execution_count": null,
   "metadata": {},
   "outputs": [],
   "source": []
  }
 ],
 "metadata": {
  "kernelspec": {
   "display_name": "Python 3",
   "language": "python",
   "name": "python3"
  },
  "language_info": {
   "codemirror_mode": {
    "name": "ipython",
    "version": 3
   },
   "file_extension": ".py",
   "mimetype": "text/x-python",
   "name": "python",
   "nbconvert_exporter": "python",
   "pygments_lexer": "ipython3",
   "version": "3.7.4"
  }
 },
 "nbformat": 4,
 "nbformat_minor": 4
}
