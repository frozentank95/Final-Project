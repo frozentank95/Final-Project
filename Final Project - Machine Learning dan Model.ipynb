{
 "cells": [
  {
   "cell_type": "code",
   "execution_count": 7,
   "metadata": {},
   "outputs": [],
   "source": [
    "import numpy as np\n",
    "import pandas as pd\n",
    "import matplotlib.pyplot as plt\n",
    "import seaborn as sns\n",
    "\n",
    "from sklearn.model_selection import train_test_split\n",
    "from sklearn.pipeline import Pipeline\n",
    "from sklearn.compose import ColumnTransformer\n",
    "\n",
    "from jcopml.pipeline import num_pipe, cat_pipe\n",
    "from jcopml.utils import save_model, load_model\n",
    "from jcopml.feature_importance import mean_score_decrease\n",
    "\n",
    "from sklearn.neighbors import KNeighborsClassifier\n",
    "from sklearn.linear_model import LogisticRegression\n",
    "from sklearn.ensemble import RandomForestClassifier\n",
    "from sklearn.svm import SVC\n",
    "from xgboost import XGBClassifier\n",
    "\n",
    "from sklearn.model_selection import RandomizedSearchCV\n",
    "from jcopml.tuning import random_search_params as rsp\n",
    "\n",
    "from sklearn.metrics import classification_report, confusion_matrix\n",
    "from sklearn.model_selection import cross_val_score"
   ]
  },
  {
   "cell_type": "code",
   "execution_count": 8,
   "metadata": {},
   "outputs": [],
   "source": [
    "dfraw = pd.read_csv('dfraw.csv')"
   ]
  },
  {
   "cell_type": "code",
   "execution_count": 9,
   "metadata": {},
   "outputs": [
    {
     "data": {
      "text/html": [
       "<div>\n",
       "<style scoped>\n",
       "    .dataframe tbody tr th:only-of-type {\n",
       "        vertical-align: middle;\n",
       "    }\n",
       "\n",
       "    .dataframe tbody tr th {\n",
       "        vertical-align: top;\n",
       "    }\n",
       "\n",
       "    .dataframe thead th {\n",
       "        text-align: right;\n",
       "    }\n",
       "</style>\n",
       "<table border=\"1\" class=\"dataframe\">\n",
       "  <thead>\n",
       "    <tr style=\"text-align: right;\">\n",
       "      <th></th>\n",
       "      <th>Amount given Credit</th>\n",
       "      <th>Gender</th>\n",
       "      <th>Education</th>\n",
       "      <th>Marital Status</th>\n",
       "      <th>Age</th>\n",
       "      <th>Repayment Sep</th>\n",
       "      <th>Repayment Aug</th>\n",
       "      <th>Repayment Jul</th>\n",
       "      <th>Repayment Jun</th>\n",
       "      <th>Repayment May</th>\n",
       "      <th>...</th>\n",
       "      <th>Amount Prev Pay Jul</th>\n",
       "      <th>Amount Prev Pay Jun</th>\n",
       "      <th>Amount Prev Pay May</th>\n",
       "      <th>Amount Prev Pay Apr</th>\n",
       "      <th>Default Payment</th>\n",
       "      <th>Total Bill</th>\n",
       "      <th>Total Pay</th>\n",
       "      <th>Count Late</th>\n",
       "      <th>Mean Pay Late</th>\n",
       "      <th>Debt</th>\n",
       "    </tr>\n",
       "  </thead>\n",
       "  <tbody>\n",
       "    <tr>\n",
       "      <th>0</th>\n",
       "      <td>20000</td>\n",
       "      <td>2</td>\n",
       "      <td>2</td>\n",
       "      <td>1</td>\n",
       "      <td>24</td>\n",
       "      <td>2</td>\n",
       "      <td>2</td>\n",
       "      <td>0</td>\n",
       "      <td>0</td>\n",
       "      <td>0</td>\n",
       "      <td>...</td>\n",
       "      <td>0</td>\n",
       "      <td>0</td>\n",
       "      <td>0</td>\n",
       "      <td>0</td>\n",
       "      <td>1</td>\n",
       "      <td>7704</td>\n",
       "      <td>689</td>\n",
       "      <td>2</td>\n",
       "      <td>0.666667</td>\n",
       "      <td>7015</td>\n",
       "    </tr>\n",
       "    <tr>\n",
       "      <th>1</th>\n",
       "      <td>120000</td>\n",
       "      <td>2</td>\n",
       "      <td>2</td>\n",
       "      <td>2</td>\n",
       "      <td>26</td>\n",
       "      <td>0</td>\n",
       "      <td>2</td>\n",
       "      <td>0</td>\n",
       "      <td>0</td>\n",
       "      <td>0</td>\n",
       "      <td>...</td>\n",
       "      <td>1000</td>\n",
       "      <td>1000</td>\n",
       "      <td>0</td>\n",
       "      <td>2000</td>\n",
       "      <td>1</td>\n",
       "      <td>17077</td>\n",
       "      <td>5000</td>\n",
       "      <td>2</td>\n",
       "      <td>0.666667</td>\n",
       "      <td>12077</td>\n",
       "    </tr>\n",
       "    <tr>\n",
       "      <th>2</th>\n",
       "      <td>90000</td>\n",
       "      <td>2</td>\n",
       "      <td>2</td>\n",
       "      <td>2</td>\n",
       "      <td>34</td>\n",
       "      <td>0</td>\n",
       "      <td>0</td>\n",
       "      <td>0</td>\n",
       "      <td>0</td>\n",
       "      <td>0</td>\n",
       "      <td>...</td>\n",
       "      <td>1000</td>\n",
       "      <td>1000</td>\n",
       "      <td>1000</td>\n",
       "      <td>5000</td>\n",
       "      <td>0</td>\n",
       "      <td>101653</td>\n",
       "      <td>11018</td>\n",
       "      <td>0</td>\n",
       "      <td>0.000000</td>\n",
       "      <td>90635</td>\n",
       "    </tr>\n",
       "    <tr>\n",
       "      <th>3</th>\n",
       "      <td>50000</td>\n",
       "      <td>2</td>\n",
       "      <td>2</td>\n",
       "      <td>1</td>\n",
       "      <td>37</td>\n",
       "      <td>0</td>\n",
       "      <td>0</td>\n",
       "      <td>0</td>\n",
       "      <td>0</td>\n",
       "      <td>0</td>\n",
       "      <td>...</td>\n",
       "      <td>1200</td>\n",
       "      <td>1100</td>\n",
       "      <td>1069</td>\n",
       "      <td>1000</td>\n",
       "      <td>0</td>\n",
       "      <td>231334</td>\n",
       "      <td>8388</td>\n",
       "      <td>0</td>\n",
       "      <td>0.000000</td>\n",
       "      <td>222946</td>\n",
       "    </tr>\n",
       "    <tr>\n",
       "      <th>4</th>\n",
       "      <td>50000</td>\n",
       "      <td>1</td>\n",
       "      <td>2</td>\n",
       "      <td>1</td>\n",
       "      <td>57</td>\n",
       "      <td>0</td>\n",
       "      <td>0</td>\n",
       "      <td>0</td>\n",
       "      <td>0</td>\n",
       "      <td>0</td>\n",
       "      <td>...</td>\n",
       "      <td>10000</td>\n",
       "      <td>9000</td>\n",
       "      <td>689</td>\n",
       "      <td>679</td>\n",
       "      <td>0</td>\n",
       "      <td>109339</td>\n",
       "      <td>59049</td>\n",
       "      <td>0</td>\n",
       "      <td>0.000000</td>\n",
       "      <td>50290</td>\n",
       "    </tr>\n",
       "  </tbody>\n",
       "</table>\n",
       "<p>5 rows × 29 columns</p>\n",
       "</div>"
      ],
      "text/plain": [
       "   Amount given Credit  Gender  Education  Marital Status  Age  Repayment Sep  \\\n",
       "0                20000       2          2               1   24              2   \n",
       "1               120000       2          2               2   26              0   \n",
       "2                90000       2          2               2   34              0   \n",
       "3                50000       2          2               1   37              0   \n",
       "4                50000       1          2               1   57              0   \n",
       "\n",
       "   Repayment Aug  Repayment Jul  Repayment Jun  Repayment May  ...  \\\n",
       "0              2              0              0              0  ...   \n",
       "1              2              0              0              0  ...   \n",
       "2              0              0              0              0  ...   \n",
       "3              0              0              0              0  ...   \n",
       "4              0              0              0              0  ...   \n",
       "\n",
       "   Amount Prev Pay Jul  Amount Prev Pay Jun  Amount Prev Pay May  \\\n",
       "0                    0                    0                    0   \n",
       "1                 1000                 1000                    0   \n",
       "2                 1000                 1000                 1000   \n",
       "3                 1200                 1100                 1069   \n",
       "4                10000                 9000                  689   \n",
       "\n",
       "   Amount Prev Pay Apr  Default Payment  Total Bill  Total Pay  Count Late  \\\n",
       "0                    0                1        7704        689           2   \n",
       "1                 2000                1       17077       5000           2   \n",
       "2                 5000                0      101653      11018           0   \n",
       "3                 1000                0      231334       8388           0   \n",
       "4                  679                0      109339      59049           0   \n",
       "\n",
       "   Mean Pay Late    Debt  \n",
       "0       0.666667    7015  \n",
       "1       0.666667   12077  \n",
       "2       0.000000   90635  \n",
       "3       0.000000  222946  \n",
       "4       0.000000   50290  \n",
       "\n",
       "[5 rows x 29 columns]"
      ]
     },
     "execution_count": 9,
     "metadata": {},
     "output_type": "execute_result"
    }
   ],
   "source": [
    "dfraw.head()"
   ]
  },
  {
   "cell_type": "code",
   "execution_count": 10,
   "metadata": {},
   "outputs": [],
   "source": [
    "df = dfraw.copy()"
   ]
  },
  {
   "cell_type": "markdown",
   "metadata": {},
   "source": [
    "## Feature Engineering"
   ]
  },
  {
   "cell_type": "markdown",
   "metadata": {},
   "source": [
    "### Binning"
   ]
  },
  {
   "cell_type": "code",
   "execution_count": 11,
   "metadata": {},
   "outputs": [
    {
     "data": {
      "text/plain": [
       "count    30000.000000\n",
       "mean        35.485500\n",
       "std          9.217904\n",
       "min         21.000000\n",
       "25%         28.000000\n",
       "50%         34.000000\n",
       "75%         41.000000\n",
       "max         79.000000\n",
       "Name: Age, dtype: float64"
      ]
     },
     "execution_count": 11,
     "metadata": {},
     "output_type": "execute_result"
    }
   ],
   "source": [
    "df['Age'].describe()"
   ]
  },
  {
   "cell_type": "code",
   "execution_count": 12,
   "metadata": {},
   "outputs": [
    {
     "data": {
      "text/html": [
       "<div>\n",
       "<style scoped>\n",
       "    .dataframe tbody tr th:only-of-type {\n",
       "        vertical-align: middle;\n",
       "    }\n",
       "\n",
       "    .dataframe tbody tr th {\n",
       "        vertical-align: top;\n",
       "    }\n",
       "\n",
       "    .dataframe thead th {\n",
       "        text-align: right;\n",
       "    }\n",
       "</style>\n",
       "<table border=\"1\" class=\"dataframe\">\n",
       "  <thead>\n",
       "    <tr style=\"text-align: right;\">\n",
       "      <th></th>\n",
       "      <th>Amount given Credit</th>\n",
       "      <th>Gender</th>\n",
       "      <th>Education</th>\n",
       "      <th>Marital Status</th>\n",
       "      <th>Age</th>\n",
       "      <th>Repayment Sep</th>\n",
       "      <th>Repayment Aug</th>\n",
       "      <th>Repayment Jul</th>\n",
       "      <th>Repayment Jun</th>\n",
       "      <th>Repayment May</th>\n",
       "      <th>...</th>\n",
       "      <th>Amount Prev Pay Jul</th>\n",
       "      <th>Amount Prev Pay Jun</th>\n",
       "      <th>Amount Prev Pay May</th>\n",
       "      <th>Amount Prev Pay Apr</th>\n",
       "      <th>Default Payment</th>\n",
       "      <th>Total Bill</th>\n",
       "      <th>Total Pay</th>\n",
       "      <th>Count Late</th>\n",
       "      <th>Mean Pay Late</th>\n",
       "      <th>Debt</th>\n",
       "    </tr>\n",
       "  </thead>\n",
       "  <tbody>\n",
       "    <tr>\n",
       "      <th>0</th>\n",
       "      <td>20000</td>\n",
       "      <td>2</td>\n",
       "      <td>2</td>\n",
       "      <td>1</td>\n",
       "      <td>1</td>\n",
       "      <td>2</td>\n",
       "      <td>2</td>\n",
       "      <td>0</td>\n",
       "      <td>0</td>\n",
       "      <td>0</td>\n",
       "      <td>...</td>\n",
       "      <td>0</td>\n",
       "      <td>0</td>\n",
       "      <td>0</td>\n",
       "      <td>0</td>\n",
       "      <td>1</td>\n",
       "      <td>7704</td>\n",
       "      <td>689</td>\n",
       "      <td>2</td>\n",
       "      <td>0.666667</td>\n",
       "      <td>7015</td>\n",
       "    </tr>\n",
       "    <tr>\n",
       "      <th>1</th>\n",
       "      <td>120000</td>\n",
       "      <td>2</td>\n",
       "      <td>2</td>\n",
       "      <td>2</td>\n",
       "      <td>1</td>\n",
       "      <td>0</td>\n",
       "      <td>2</td>\n",
       "      <td>0</td>\n",
       "      <td>0</td>\n",
       "      <td>0</td>\n",
       "      <td>...</td>\n",
       "      <td>1000</td>\n",
       "      <td>1000</td>\n",
       "      <td>0</td>\n",
       "      <td>2000</td>\n",
       "      <td>1</td>\n",
       "      <td>17077</td>\n",
       "      <td>5000</td>\n",
       "      <td>2</td>\n",
       "      <td>0.666667</td>\n",
       "      <td>12077</td>\n",
       "    </tr>\n",
       "    <tr>\n",
       "      <th>2</th>\n",
       "      <td>90000</td>\n",
       "      <td>2</td>\n",
       "      <td>2</td>\n",
       "      <td>2</td>\n",
       "      <td>2</td>\n",
       "      <td>0</td>\n",
       "      <td>0</td>\n",
       "      <td>0</td>\n",
       "      <td>0</td>\n",
       "      <td>0</td>\n",
       "      <td>...</td>\n",
       "      <td>1000</td>\n",
       "      <td>1000</td>\n",
       "      <td>1000</td>\n",
       "      <td>5000</td>\n",
       "      <td>0</td>\n",
       "      <td>101653</td>\n",
       "      <td>11018</td>\n",
       "      <td>0</td>\n",
       "      <td>0.000000</td>\n",
       "      <td>90635</td>\n",
       "    </tr>\n",
       "    <tr>\n",
       "      <th>3</th>\n",
       "      <td>50000</td>\n",
       "      <td>2</td>\n",
       "      <td>2</td>\n",
       "      <td>1</td>\n",
       "      <td>3</td>\n",
       "      <td>0</td>\n",
       "      <td>0</td>\n",
       "      <td>0</td>\n",
       "      <td>0</td>\n",
       "      <td>0</td>\n",
       "      <td>...</td>\n",
       "      <td>1200</td>\n",
       "      <td>1100</td>\n",
       "      <td>1069</td>\n",
       "      <td>1000</td>\n",
       "      <td>0</td>\n",
       "      <td>231334</td>\n",
       "      <td>8388</td>\n",
       "      <td>0</td>\n",
       "      <td>0.000000</td>\n",
       "      <td>222946</td>\n",
       "    </tr>\n",
       "    <tr>\n",
       "      <th>4</th>\n",
       "      <td>50000</td>\n",
       "      <td>1</td>\n",
       "      <td>2</td>\n",
       "      <td>1</td>\n",
       "      <td>4</td>\n",
       "      <td>0</td>\n",
       "      <td>0</td>\n",
       "      <td>0</td>\n",
       "      <td>0</td>\n",
       "      <td>0</td>\n",
       "      <td>...</td>\n",
       "      <td>10000</td>\n",
       "      <td>9000</td>\n",
       "      <td>689</td>\n",
       "      <td>679</td>\n",
       "      <td>0</td>\n",
       "      <td>109339</td>\n",
       "      <td>59049</td>\n",
       "      <td>0</td>\n",
       "      <td>0.000000</td>\n",
       "      <td>50290</td>\n",
       "    </tr>\n",
       "  </tbody>\n",
       "</table>\n",
       "<p>5 rows × 29 columns</p>\n",
       "</div>"
      ],
      "text/plain": [
       "   Amount given Credit  Gender  Education  Marital Status Age  Repayment Sep  \\\n",
       "0                20000       2          2               1   1              2   \n",
       "1               120000       2          2               2   1              0   \n",
       "2                90000       2          2               2   2              0   \n",
       "3                50000       2          2               1   3              0   \n",
       "4                50000       1          2               1   4              0   \n",
       "\n",
       "   Repayment Aug  Repayment Jul  Repayment Jun  Repayment May  ...  \\\n",
       "0              2              0              0              0  ...   \n",
       "1              2              0              0              0  ...   \n",
       "2              0              0              0              0  ...   \n",
       "3              0              0              0              0  ...   \n",
       "4              0              0              0              0  ...   \n",
       "\n",
       "   Amount Prev Pay Jul  Amount Prev Pay Jun  Amount Prev Pay May  \\\n",
       "0                    0                    0                    0   \n",
       "1                 1000                 1000                    0   \n",
       "2                 1000                 1000                 1000   \n",
       "3                 1200                 1100                 1069   \n",
       "4                10000                 9000                  689   \n",
       "\n",
       "   Amount Prev Pay Apr  Default Payment  Total Bill  Total Pay  Count Late  \\\n",
       "0                    0                1        7704        689           2   \n",
       "1                 2000                1       17077       5000           2   \n",
       "2                 5000                0      101653      11018           0   \n",
       "3                 1000                0      231334       8388           0   \n",
       "4                  679                0      109339      59049           0   \n",
       "\n",
       "   Mean Pay Late    Debt  \n",
       "0       0.666667    7015  \n",
       "1       0.666667   12077  \n",
       "2       0.000000   90635  \n",
       "3       0.000000  222946  \n",
       "4       0.000000   50290  \n",
       "\n",
       "[5 rows x 29 columns]"
      ]
     },
     "execution_count": 12,
     "metadata": {},
     "output_type": "execute_result"
    }
   ],
   "source": [
    "#binning age berdasar kan interquartile range\n",
    "\n",
    "df.Age = pd.cut(df.Age,[0,28,34,41,100], labels=(1,2,3,4))\n",
    "df.head()"
   ]
  },
  {
   "cell_type": "code",
   "execution_count": 13,
   "metadata": {},
   "outputs": [],
   "source": [
    "df['Age'] = df['Age'].astype('int64')"
   ]
  },
  {
   "cell_type": "code",
   "execution_count": 14,
   "metadata": {},
   "outputs": [],
   "source": [
    "#berdasarkan korelasi, saya mengurangi feature yang memiliki multicol\n",
    "\n",
    "num = ['Amount given Credit', 'Repayment Sep', 'Repayment Aug',\n",
    "       'Repayment Jul', 'Repayment Jun', 'Repayment May', 'Repayment Apr',\n",
    "       'Amount of Bill Sep', 'Amount of Bill Aug', 'Amount of Bill Jul',\n",
    "       'Amount of Bill Jun', 'Amount of Bill May', 'Amount of Bill Apr',\n",
    "       'Amount Prev Pay Sep', 'Amount Prev Pay Aug', 'Amount Prev Pay Jul',\n",
    "       'Amount Prev Pay Jun', 'Amount Prev Pay May', 'Amount Prev Pay Apr',\n",
    "       'Total Bill','Total Pay','Count Late','Mean Pay Late','Debt']\n",
    "\n",
    "num1 = ['Amount given Credit','Age','Repayment Sep', 'Repayment Aug',\n",
    "       'Repayment Jul', 'Repayment Jun', 'Repayment May', 'Repayment Apr',\n",
    "       'Amount of Bill Sep', 'Amount of Bill Aug', 'Amount of Bill Jul',\n",
    "       'Amount of Bill Jun', 'Amount of Bill May', 'Amount of Bill Apr',\n",
    "       'Amount Prev Pay Sep', 'Amount Prev Pay Aug', 'Amount Prev Pay Jul',\n",
    "       'Amount Prev Pay Jun', 'Amount Prev Pay May', 'Amount Prev Pay Apr',\n",
    "       'Total Bill','Total Pay','Count Late','Mean Pay Late','Debt']\n",
    "\n",
    "cat = ['Education','Marital Status','Age']\n",
    "cat1 = ['Education','Marital Status']"
   ]
  },
  {
   "cell_type": "markdown",
   "metadata": {},
   "source": [
    "## Dataset Splitting"
   ]
  },
  {
   "cell_type": "code",
   "execution_count": 27,
   "metadata": {},
   "outputs": [
    {
     "name": "stdout",
     "output_type": "stream",
     "text": [
      "<class 'pandas.core.frame.DataFrame'>\n",
      "RangeIndex: 30000 entries, 0 to 29999\n",
      "Data columns (total 29 columns):\n",
      " #   Column               Non-Null Count  Dtype  \n",
      "---  ------               --------------  -----  \n",
      " 0   Amount given Credit  30000 non-null  int64  \n",
      " 1   Gender               30000 non-null  int64  \n",
      " 2   Education            30000 non-null  int64  \n",
      " 3   Marital Status       30000 non-null  int64  \n",
      " 4   Age                  30000 non-null  int64  \n",
      " 5   Repayment Sep        30000 non-null  int64  \n",
      " 6   Repayment Aug        30000 non-null  int64  \n",
      " 7   Repayment Jul        30000 non-null  int64  \n",
      " 8   Repayment Jun        30000 non-null  int64  \n",
      " 9   Repayment May        30000 non-null  int64  \n",
      " 10  Repayment Apr        30000 non-null  int64  \n",
      " 11  Amount of Bill Sep   30000 non-null  int64  \n",
      " 12  Amount of Bill Aug   30000 non-null  int64  \n",
      " 13  Amount of Bill Jul   30000 non-null  int64  \n",
      " 14  Amount of Bill Jun   30000 non-null  int64  \n",
      " 15  Amount of Bill May   30000 non-null  int64  \n",
      " 16  Amount of Bill Apr   30000 non-null  int64  \n",
      " 17  Amount Prev Pay Sep  30000 non-null  int64  \n",
      " 18  Amount Prev Pay Aug  30000 non-null  int64  \n",
      " 19  Amount Prev Pay Jul  30000 non-null  int64  \n",
      " 20  Amount Prev Pay Jun  30000 non-null  int64  \n",
      " 21  Amount Prev Pay May  30000 non-null  int64  \n",
      " 22  Amount Prev Pay Apr  30000 non-null  int64  \n",
      " 23  Default Payment      30000 non-null  int64  \n",
      " 24  Total Bill           30000 non-null  int64  \n",
      " 25  Total Pay            30000 non-null  int64  \n",
      " 26  Count Late           30000 non-null  int64  \n",
      " 27  Mean Pay Late        30000 non-null  float64\n",
      " 28  Debt                 30000 non-null  int64  \n",
      "dtypes: float64(1), int64(28)\n",
      "memory usage: 6.6 MB\n"
     ]
    }
   ],
   "source": [
    "df.info()"
   ]
  },
  {
   "cell_type": "code",
   "execution_count": 28,
   "metadata": {},
   "outputs": [
    {
     "data": {
      "text/plain": [
       "((24000, 28), (6000, 28), (24000,), (6000,))"
      ]
     },
     "execution_count": 28,
     "metadata": {},
     "output_type": "execute_result"
    }
   ],
   "source": [
    "X = df.drop(columns='Default Payment')\n",
    "y = df['Default Payment']\n",
    "\n",
    "X_train, X_test, y_train, y_test = train_test_split(X, y, test_size=0.2, stratify=y, random_state=42)\n",
    "X_train.shape, X_test.shape, y_train.shape, y_test.shape"
   ]
  },
  {
   "cell_type": "markdown",
   "metadata": {},
   "source": [
    "## Using KNN"
   ]
  },
  {
   "cell_type": "code",
   "execution_count": 29,
   "metadata": {},
   "outputs": [
    {
     "data": {
      "text/plain": [
       "{'algo__n_neighbors': Integer(low=1, high=40),\n",
       " 'algo__weights': ['uniform', 'distance'],\n",
       " 'algo__p': Real(low=1, high=2, prior='uniform')}"
      ]
     },
     "execution_count": 29,
     "metadata": {},
     "output_type": "execute_result"
    }
   ],
   "source": [
    "rsp.knn_params"
   ]
  },
  {
   "cell_type": "code",
   "execution_count": 30,
   "metadata": {},
   "outputs": [
    {
     "name": "stdout",
     "output_type": "stream",
     "text": [
      "Fitting 4 folds for each of 5 candidates, totalling 20 fits\n"
     ]
    },
    {
     "name": "stderr",
     "output_type": "stream",
     "text": [
      "[Parallel(n_jobs=-1)]: Using backend LokyBackend with 4 concurrent workers.\n",
      "[Parallel(n_jobs=-1)]: Done  20 out of  20 | elapsed:  2.0min finished\n"
     ]
    },
    {
     "name": "stdout",
     "output_type": "stream",
     "text": [
      "{'algo__n_neighbors': 39, 'algo__p': 1.7965429868602332, 'algo__weights': 'uniform'}\n",
      "0.7937004239592862 0.7562321329611139 0.7504441571464027\n",
      "              precision    recall  f1-score   support\n",
      "\n",
      "           0       0.84      0.95      0.89      4673\n",
      "           1       0.64      0.34      0.45      1327\n",
      "\n",
      "    accuracy                           0.81      6000\n",
      "   macro avg       0.74      0.64      0.67      6000\n",
      "weighted avg       0.79      0.81      0.79      6000\n",
      "\n"
     ]
    },
    {
     "data": {
      "image/png": "[encoded data removed]",
      "text/plain": [
       "<Figure size 576x360 with 2 Axes>"
      ]
     },
     "metadata": {
      "needs_background": "light"
     },
     "output_type": "display_data"
    }
   ],
   "source": [
    "preprocessorknn = ColumnTransformer([\n",
    "    ('numeric', num_pipe(scaling='robust'), num),\n",
    "    ('categoric', cat_pipe(encoder='onehot'), cat)\n",
    "])\n",
    "\n",
    "pipelineknn = Pipeline([\n",
    "    ('prep', preprocessorknn),\n",
    "    ('algo', KNeighborsClassifier(metric='euclidean'))\n",
    "])\n",
    "\n",
    "model1 = RandomizedSearchCV(pipelineknn, rsp.knn_params, cv=4,scoring='roc_auc', n_iter=5, n_jobs=-1, verbose=1, random_state=42)\n",
    "model1.fit(X_train, y_train)\n",
    "\n",
    "print(model1.best_params_)\n",
    "print(model1.score(X_train, y_train), model1.best_score_, model1.score(X_test, y_test))\n",
    "\n",
    "print(classification_report(y_test,model1.predict(X_test)))\n",
    "\n",
    "f, ax = plt.subplots(figsize=(8,5))\n",
    "sns.heatmap(confusion_matrix(y_test, model1.predict(X_test)), annot=True, fmt=\".0f\", ax=ax)\n",
    "plt.xlabel(\"y Prediksi\")\n",
    "plt.ylabel(\"y Aktual\")\n",
    "plt.show()"
   ]
  },
  {
   "cell_type": "markdown",
   "metadata": {},
   "source": [
    "## Using Logistic Regression"
   ]
  },
  {
   "cell_type": "code",
   "execution_count": 31,
   "metadata": {},
   "outputs": [
    {
     "data": {
      "text/plain": [
       "{'algo__fit_intercept': [True, False],\n",
       " 'algo__C': Real(low=-3, high=3, prior='log-uniform')}"
      ]
     },
     "execution_count": 31,
     "metadata": {},
     "output_type": "execute_result"
    }
   ],
   "source": [
    "rsp.logreg_params"
   ]
  },
  {
   "cell_type": "code",
   "execution_count": 32,
   "metadata": {},
   "outputs": [
    {
     "name": "stdout",
     "output_type": "stream",
     "text": [
      "Fitting 4 folds for each of 5 candidates, totalling 20 fits\n"
     ]
    },
    {
     "name": "stderr",
     "output_type": "stream",
     "text": [
      "[Parallel(n_jobs=-1)]: Using backend LokyBackend with 4 concurrent workers.\n",
      "[Parallel(n_jobs=-1)]: Done  20 out of  20 | elapsed:    6.6s finished\n"
     ]
    },
    {
     "name": "stdout",
     "output_type": "stream",
     "text": [
      "{'algo__C': 0.17670169402947963, 'algo__fit_intercept': True}\n",
      "0.7634437546376232 0.7606161149743124 0.7424659385451319\n",
      "              precision    recall  f1-score   support\n",
      "\n",
      "           0       0.84      0.95      0.89      4673\n",
      "           1       0.66      0.34      0.45      1327\n",
      "\n",
      "    accuracy                           0.82      6000\n",
      "   macro avg       0.75      0.65      0.67      6000\n",
      "weighted avg       0.80      0.82      0.79      6000\n",
      "\n"
     ]
    },
    {
     "data": {
      "image/png": "[encoded data removed]",
      "text/plain": [
       "<Figure size 576x360 with 2 Axes>"
      ]
     },
     "metadata": {
      "needs_background": "light"
     },
     "output_type": "display_data"
    }
   ],
   "source": [
    "preprocessorlogreg = ColumnTransformer([\n",
    "    ('numeric', num_pipe(scaling='robust'), num),\n",
    "    ('categoric', cat_pipe(encoder='onehot'), cat)\n",
    "])\n",
    "\n",
    "\n",
    "pipelinelogreg = Pipeline([\n",
    "    ('prep', preprocessorlogreg),\n",
    "    ('algo', LogisticRegression(solver='lbfgs', n_jobs=-1, random_state=42))\n",
    "])\n",
    "\n",
    "\n",
    "model2 = RandomizedSearchCV(pipelinelogreg, rsp.logreg_params,scoring='roc_auc' ,cv=4, n_iter=5, n_jobs=-1, verbose=1, random_state=42)\n",
    "model2.fit(X_train, y_train)\n",
    "\n",
    "print(model2.best_params_)\n",
    "print(model2.score(X_train, y_train), model2.best_score_, model2.score(X_test, y_test))\n",
    "\n",
    "print(classification_report(y_test,model2.predict(X_test)))\n",
    "\n",
    "f, ax = plt.subplots(figsize=(8,5))\n",
    "sns.heatmap(confusion_matrix(y_test, model2.predict(X_test)), annot=True, fmt=\".0f\", ax=ax)\n",
    "plt.xlabel(\"y Prediksi\")\n",
    "plt.ylabel(\"y Aktual\")\n",
    "plt.show()"
   ]
  },
  {
   "cell_type": "markdown",
   "metadata": {},
   "source": [
    "## Using Random Forest Classifier"
   ]
  },
  {
   "cell_type": "code",
   "execution_count": 33,
   "metadata": {},
   "outputs": [
    {
     "data": {
      "text/plain": [
       "{'algo__n_estimators': Integer(low=100, high=200),\n",
       " 'algo__max_depth': Integer(low=20, high=80),\n",
       " 'algo__max_features': Real(low=0.1, high=1, prior='uniform'),\n",
       " 'algo__min_samples_leaf': Integer(low=1, high=20)}"
      ]
     },
     "execution_count": 33,
     "metadata": {},
     "output_type": "execute_result"
    }
   ],
   "source": [
    "rsp.rf_params"
   ]
  },
  {
   "cell_type": "code",
   "execution_count": 34,
   "metadata": {},
   "outputs": [
    {
     "name": "stdout",
     "output_type": "stream",
     "text": [
      "Fitting 4 folds for each of 5 candidates, totalling 20 fits\n"
     ]
    },
    {
     "name": "stderr",
     "output_type": "stream",
     "text": [
      "[Parallel(n_jobs=-1)]: Using backend LokyBackend with 4 concurrent workers.\n",
      "[Parallel(n_jobs=-1)]: Done  20 out of  20 | elapsed:  5.2min finished\n"
     ]
    },
    {
     "name": "stdout",
     "output_type": "stream",
     "text": [
      "{'algo__max_depth': 80, 'algo__max_features': 0.6371651421518384, 'algo__min_samples_leaf': 19, 'algo__n_estimators': 186}\n",
      "0.9094544491901729 0.7793304835238776 0.7725520317377433\n",
      "              precision    recall  f1-score   support\n",
      "\n",
      "           0       0.84      0.95      0.89      4673\n",
      "           1       0.67      0.37      0.48      1327\n",
      "\n",
      "    accuracy                           0.82      6000\n",
      "   macro avg       0.76      0.66      0.69      6000\n",
      "weighted avg       0.80      0.82      0.80      6000\n",
      "\n"
     ]
    },
    {
     "data": {
      "image/png": "[encoded data removed]",
      "text/plain": [
       "<Figure size 576x360 with 2 Axes>"
      ]
     },
     "metadata": {
      "needs_background": "light"
     },
     "output_type": "display_data"
    }
   ],
   "source": [
    "preprocessorrf = ColumnTransformer([\n",
    "    ('numeric', num_pipe(scaling='robust'), num),\n",
    "    ('categoric', cat_pipe(encoder='onehot'), cat)\n",
    "])\n",
    "\n",
    "pipelinerf = Pipeline([\n",
    "    ('prep', preprocessorrf),\n",
    "    ('algo', RandomForestClassifier(n_jobs=-1, random_state=42))\n",
    "])\n",
    "\n",
    "model3 = RandomizedSearchCV(pipelinerf, rsp.rf_params, cv=4,scoring='roc_auc', n_iter=5, n_jobs=-1, verbose=1, random_state=42)\n",
    "model3.fit(X_train, y_train)\n",
    "\n",
    "print(model3.best_params_)\n",
    "print(model3.score(X_train, y_train), model3.best_score_, model3.score(X_test, y_test))\n",
    "\n",
    "print(classification_report(y_test,model3.predict(X_test)))\n",
    "\n",
    "f, ax = plt.subplots(figsize=(8,5))\n",
    "sns.heatmap(confusion_matrix(y_test, model3.predict(X_test)), annot=True, fmt=\".0f\", ax=ax)\n",
    "plt.xlabel(\"y Prediksi\")\n",
    "plt.ylabel(\"y Aktual\")\n",
    "plt.show()"
   ]
  },
  {
   "cell_type": "markdown",
   "metadata": {},
   "source": [
    "## Using SVC"
   ]
  },
  {
   "cell_type": "code",
   "execution_count": 19,
   "metadata": {},
   "outputs": [
    {
     "data": {
      "text/plain": [
       "{'algo__gamma': Real(low=-3, high=3, prior='log-uniform'),\n",
       " 'algo__C': Real(low=-3, high=3, prior='log-uniform')}"
      ]
     },
     "execution_count": 19,
     "metadata": {},
     "output_type": "execute_result"
    }
   ],
   "source": [
    "rsp.svm_params"
   ]
  },
  {
   "cell_type": "code",
   "execution_count": 35,
   "metadata": {},
   "outputs": [
    {
     "name": "stdout",
     "output_type": "stream",
     "text": [
      "Fitting 4 folds for each of 5 candidates, totalling 20 fits\n"
     ]
    },
    {
     "name": "stderr",
     "output_type": "stream",
     "text": [
      "[Parallel(n_jobs=-1)]: Using backend LokyBackend with 4 concurrent workers.\n",
      "[Parallel(n_jobs=-1)]: Done  20 out of  20 | elapsed:   24.4s finished\n",
      "/opt/anaconda3/lib/python3.7/site-packages/sklearn/svm/_base.py:249: ConvergenceWarning: Solver terminated early (max_iter=500).  Consider pre-processing your data with StandardScaler or MinMaxScaler.\n",
      "  % self.max_iter, ConvergenceWarning)\n"
     ]
    },
    {
     "name": "stdout",
     "output_type": "stream",
     "text": [
      "{'algo__C': 0.002231010801867923, 'algo__gamma': 157.41890047456675}\n",
      "0.5782960129433568 0.5568936552050021 0.5043008699626242\n",
      "              precision    recall  f1-score   support\n",
      "\n",
      "           0       0.78      0.99      0.87      4673\n",
      "           1       0.34      0.01      0.02      1327\n",
      "\n",
      "    accuracy                           0.78      6000\n",
      "   macro avg       0.56      0.50      0.45      6000\n",
      "weighted avg       0.68      0.78      0.69      6000\n",
      "\n"
     ]
    },
    {
     "data": {
      "image/png": "[encoded data removed]",
      "text/plain": [
       "<Figure size 576x360 with 2 Axes>"
      ]
     },
     "metadata": {
      "needs_background": "light"
     },
     "output_type": "display_data"
    }
   ],
   "source": [
    "preprocessorsvc = ColumnTransformer([\n",
    "    ('numeric', num_pipe(scaling='robust'), num),\n",
    "    ('categoric', cat_pipe(encoder='onehot'), cat)\n",
    "])\n",
    "\n",
    "pipelinesvc = Pipeline([\n",
    "    ('prep', preprocessorsvc),\n",
    "    ('algo', SVC(max_iter=500))\n",
    "])\n",
    "\n",
    "model4 = RandomizedSearchCV(pipelinesvc, rsp.svm_params, cv=4,scoring='roc_auc', n_iter=5, n_jobs=-1, verbose=1, random_state=42)\n",
    "model4.fit(X_train, y_train)\n",
    "\n",
    "print(model4.best_params_)\n",
    "print(model4.score(X_train, y_train), model4.best_score_, model4.score(X_test, y_test))\n",
    "\n",
    "print(classification_report(y_test,model4.predict(X_test)))\n",
    "\n",
    "f, ax = plt.subplots(figsize=(8,5))\n",
    "sns.heatmap(confusion_matrix(y_test, model4.predict(X_test)), annot=True, fmt=\".0f\", ax=ax)\n",
    "plt.xlabel(\"y Prediksi\")\n",
    "plt.ylabel(\"y Aktual\")\n",
    "plt.show()"
   ]
  },
  {
   "cell_type": "markdown",
   "metadata": {},
   "source": [
    "## Using XGBoost"
   ]
  },
  {
   "cell_type": "code",
   "execution_count": 36,
   "metadata": {},
   "outputs": [
    {
     "data": {
      "text/plain": [
       "{'algo__max_depth': Integer(low=1, high=10),\n",
       " 'algo__learning_rate': Real(low=-2, high=0, prior='log-uniform'),\n",
       " 'algo__n_estimators': Integer(low=100, high=200),\n",
       " 'algo__subsample': Real(low=0.3, high=0.8, prior='uniform'),\n",
       " 'algo__gamma': Integer(low=1, high=10),\n",
       " 'algo__colsample_bytree': Real(low=0.1, high=1, prior='uniform'),\n",
       " 'algo__reg_alpha': Real(low=-3, high=1, prior='log-uniform'),\n",
       " 'algo__reg_lambda': Real(low=-3, high=1, prior='log-uniform')}"
      ]
     },
     "execution_count": 36,
     "metadata": {},
     "output_type": "execute_result"
    }
   ],
   "source": [
    "rsp.xgb_params"
   ]
  },
  {
   "cell_type": "code",
   "execution_count": 37,
   "metadata": {},
   "outputs": [
    {
     "name": "stdout",
     "output_type": "stream",
     "text": [
      "Fitting 4 folds for each of 5 candidates, totalling 20 fits\n"
     ]
    },
    {
     "name": "stderr",
     "output_type": "stream",
     "text": [
      "[Parallel(n_jobs=-1)]: Using backend LokyBackend with 4 concurrent workers.\n",
      "[Parallel(n_jobs=-1)]: Done  20 out of  20 | elapsed:  1.7min finished\n"
     ]
    },
    {
     "name": "stdout",
     "output_type": "stream",
     "text": [
      "{'algo__colsample_bytree': 0.9763799669573133, 'algo__gamma': 3, 'algo__learning_rate': 0.05820013372709852, 'algo__max_depth': 4, 'algo__n_estimators': 163, 'algo__reg_alpha': 0.07362945281639222, 'algo__reg_lambda': 2.752717392942944, 'algo__subsample': 0.6401537692938899}\n",
      "0.8225296241774167 0.7851399406059784 0.7771055999842608\n",
      "              precision    recall  f1-score   support\n",
      "\n",
      "           0       0.84      0.95      0.89      4673\n",
      "           1       0.66      0.36      0.47      1327\n",
      "\n",
      "    accuracy                           0.82      6000\n",
      "   macro avg       0.75      0.66      0.68      6000\n",
      "weighted avg       0.80      0.82      0.80      6000\n",
      "\n"
     ]
    },
    {
     "data": {
      "image/png": "[encoded data removed]",
      "text/plain": [
       "<Figure size 576x360 with 2 Axes>"
      ]
     },
     "metadata": {
      "needs_background": "light"
     },
     "output_type": "display_data"
    }
   ],
   "source": [
    "preprocessorxgb = ColumnTransformer([\n",
    "    ('numeric', num_pipe(scaling='robust'), num),\n",
    "    ('categoric', cat_pipe(encoder='onehot'), cat)\n",
    "])\n",
    "\n",
    "pipelinexgb = Pipeline([\n",
    "    ('prep', preprocessorxgb),\n",
    "    ('algo', XGBClassifier(n_jobs=-1, random_state=42))\n",
    "])\n",
    "\n",
    "model5 = RandomizedSearchCV(pipelinexgb, rsp.xgb_params, cv=4, scoring='roc_auc', n_iter=5, n_jobs=-1, verbose=1, random_state=42)\n",
    "model5.fit(X_train, y_train)\n",
    "\n",
    "print(model5.best_params_)\n",
    "print(model5.score(X_train, y_train), model5.best_score_, model5.score(X_test, y_test))\n",
    "\n",
    "print(classification_report(y_test,model5.predict(X_test)))\n",
    "\n",
    "f, ax = plt.subplots(figsize=(8,5))\n",
    "sns.heatmap(confusion_matrix(y_test, model5.predict(X_test)), annot=True, fmt=\".0f\", ax=ax)\n",
    "plt.xlabel(\"y Prediksi\")\n",
    "plt.ylabel(\"y Aktual\")\n",
    "plt.show()"
   ]
  },
  {
   "cell_type": "code",
   "execution_count": 38,
   "metadata": {},
   "outputs": [
    {
     "data": {
      "text/html": [
       "<div>\n",
       "<style scoped>\n",
       "    .dataframe tbody tr th:only-of-type {\n",
       "        vertical-align: middle;\n",
       "    }\n",
       "\n",
       "    .dataframe tbody tr th {\n",
       "        vertical-align: top;\n",
       "    }\n",
       "\n",
       "    .dataframe thead th {\n",
       "        text-align: right;\n",
       "    }\n",
       "</style>\n",
       "<table border=\"1\" class=\"dataframe\">\n",
       "  <thead>\n",
       "    <tr style=\"text-align: right;\">\n",
       "      <th></th>\n",
       "      <th>Model</th>\n",
       "      <th>Model Score Train</th>\n",
       "      <th>Model Score Test</th>\n",
       "      <th>Precision Score</th>\n",
       "      <th>Recall Score</th>\n",
       "      <th>f1 Score</th>\n",
       "      <th>Accuracy Score</th>\n",
       "    </tr>\n",
       "  </thead>\n",
       "  <tbody>\n",
       "    <tr>\n",
       "      <th>0</th>\n",
       "      <td>KNearestNeighbors</td>\n",
       "      <td>0.793700</td>\n",
       "      <td>0.750444</td>\n",
       "      <td>0.639045</td>\n",
       "      <td>0.342879</td>\n",
       "      <td>0.446297</td>\n",
       "      <td>0.811833</td>\n",
       "    </tr>\n",
       "    <tr>\n",
       "      <th>1</th>\n",
       "      <td>Logistic Regression</td>\n",
       "      <td>0.763444</td>\n",
       "      <td>0.742466</td>\n",
       "      <td>0.663265</td>\n",
       "      <td>0.342879</td>\n",
       "      <td>0.452062</td>\n",
       "      <td>0.816167</td>\n",
       "    </tr>\n",
       "    <tr>\n",
       "      <th>2</th>\n",
       "      <td>Random Forest</td>\n",
       "      <td>0.909454</td>\n",
       "      <td>0.772552</td>\n",
       "      <td>0.670285</td>\n",
       "      <td>0.372268</td>\n",
       "      <td>0.478682</td>\n",
       "      <td>0.820667</td>\n",
       "    </tr>\n",
       "    <tr>\n",
       "      <th>3</th>\n",
       "      <td>SVC</td>\n",
       "      <td>0.578296</td>\n",
       "      <td>0.504301</td>\n",
       "      <td>0.340909</td>\n",
       "      <td>0.011304</td>\n",
       "      <td>0.021882</td>\n",
       "      <td>0.776500</td>\n",
       "    </tr>\n",
       "    <tr>\n",
       "      <th>4</th>\n",
       "      <td>XGBoost</td>\n",
       "      <td>0.822530</td>\n",
       "      <td>0.777106</td>\n",
       "      <td>0.663912</td>\n",
       "      <td>0.363225</td>\n",
       "      <td>0.469557</td>\n",
       "      <td>0.818500</td>\n",
       "    </tr>\n",
       "  </tbody>\n",
       "</table>\n",
       "</div>"
      ],
      "text/plain": [
       "                 Model  Model Score Train  Model Score Test  Precision Score  \\\n",
       "0    KNearestNeighbors           0.793700          0.750444         0.639045   \n",
       "1  Logistic Regression           0.763444          0.742466         0.663265   \n",
       "2        Random Forest           0.909454          0.772552         0.670285   \n",
       "3                  SVC           0.578296          0.504301         0.340909   \n",
       "4              XGBoost           0.822530          0.777106         0.663912   \n",
       "\n",
       "   Recall Score  f1 Score  Accuracy Score  \n",
       "0      0.342879  0.446297        0.811833  \n",
       "1      0.342879  0.452062        0.816167  \n",
       "2      0.372268  0.478682        0.820667  \n",
       "3      0.011304  0.021882        0.776500  \n",
       "4      0.363225  0.469557        0.818500  "
      ]
     },
     "execution_count": 38,
     "metadata": {},
     "output_type": "execute_result"
    }
   ],
   "source": [
    "from sklearn.metrics import precision_score, recall_score, f1_score, accuracy_score\n",
    "\n",
    "f1_scoreKNN = f1_score(y_test, model1.predict(X_test))\n",
    "f1_scoreLR = f1_score(y_test, model2.predict(X_test))\n",
    "f1_scoreRF = f1_score(y_test, model3.predict(X_test))\n",
    "f1_scoreSVC = f1_score(y_test, model4.predict(X_test))\n",
    "f1_scoreXGB = f1_score(y_test, model5.predict(X_test))\n",
    "\n",
    "precision_scoreKNN = precision_score(y_test, model1.predict(X_test))\n",
    "precision_scoreLR = precision_score(y_test, model2.predict(X_test))\n",
    "precision_scoreRF = precision_score(y_test, model3.predict(X_test))\n",
    "precision_scoreSVC = precision_score(y_test, model4.predict(X_test))\n",
    "precision_scoreXGB = precision_score(y_test, model5.predict(X_test))\n",
    "\n",
    "\n",
    "recall_scoreKNN = recall_score(y_test, model1.predict(X_test))\n",
    "recall_scoreLR = recall_score(y_test, model2.predict(X_test))\n",
    "recall_scoreRF = recall_score(y_test, model3.predict(X_test))\n",
    "recall_scoreSVC = recall_score(y_test, model4.predict(X_test))\n",
    "recall_scoreXGB = recall_score(y_test, model5.predict(X_test))\n",
    "\n",
    "\n",
    "accuracy_scoreKNN = accuracy_score(y_test, model1.predict(X_test))\n",
    "accuracy_scoreLR = accuracy_score(y_test, model2.predict(X_test))\n",
    "accuracy_scoreRF = accuracy_score(y_test, model3.predict(X_test))\n",
    "accuracy_scoreSVC = accuracy_score(y_test, model4.predict(X_test))\n",
    "accuracy_scoreXGB = accuracy_score(y_test, model5.predict(X_test))\n",
    "\n",
    "model_scoreKNN = model1.score(X_test, y_test)\n",
    "model_scoreLR = model2.score(X_test, y_test)\n",
    "model_scoreRF = model3.score(X_test, y_test)\n",
    "model_scoreSVC = model4.score(X_test, y_test)\n",
    "model_scoreXGB = model5.score(X_test, y_test)\n",
    "\n",
    "modeltrainKNN = model1.score(X_train, y_train)\n",
    "modeltrainLR = model2.score(X_train, y_train)\n",
    "modeltrainRF = model3.score(X_train, y_train)\n",
    "modeltrainSVC = model4.score(X_train, y_train)\n",
    "modeltrainXGB = model5.score(X_train, y_train)\n",
    "\n",
    "scores = {'Model': ['KNearestNeighbors', 'Logistic Regression', 'Random Forest', 'SVC', 'XGBoost'],\n",
    "          'Model Score Train': [modeltrainKNN, modeltrainLR, modeltrainRF, modeltrainSVC, modeltrainXGB],\n",
    "          'Model Score Test' : [model_scoreKNN, model_scoreLR, model_scoreRF, model_scoreSVC, model_scoreXGB],\n",
    "          'Precision Score': [precision_scoreKNN, precision_scoreLR, precision_scoreRF, precision_scoreSVC, precision_scoreXGB],\n",
    "         'Recall Score' : [recall_scoreKNN, recall_scoreLR, recall_scoreRF, recall_scoreSVC, recall_scoreXGB],\n",
    "          'f1 Score' : [f1_scoreKNN, f1_scoreLR, f1_scoreRF, f1_scoreSVC, f1_scoreXGB],\n",
    "         'Accuracy Score' : [accuracy_scoreKNN, accuracy_scoreLR, accuracy_scoreRF, accuracy_scoreSVC, accuracy_scoreXGB]}\n",
    "\n",
    "\n",
    "model_compare = pd.DataFrame(scores, columns=['Model', 'Model Score Train','Model Score Test', 'Precision Score', 'Recall Score', 'f1 Score', 'Accuracy Score'])\n",
    "model_compare"
   ]
  },
  {
   "cell_type": "markdown",
   "metadata": {},
   "source": [
    "Dilihat dari hasil pemodelan menggunakan hyper parameter, saya memilih model XGBoost dan Logistic Regression sebagai Base Model "
   ]
  },
  {
   "cell_type": "markdown",
   "metadata": {},
   "source": [
    "## Coba Smote untuk Handling Imbalance Target"
   ]
  },
  {
   "cell_type": "code",
   "execution_count": 41,
   "metadata": {
    "scrolled": true
   },
   "outputs": [
    {
     "name": "stdout",
     "output_type": "stream",
     "text": [
      "(24000, 28) (6000, 28) (24000,) (6000,)\n",
      "Before OverSampling, counts of label '1': 5309\n",
      "Before OverSampling, counts of label '0': 18691 \n",
      "\n",
      "After OverSampling, the shape of train_X: (37382, 28)\n",
      "After OverSampling, the shape of train_y: (37382,) \n",
      "\n",
      "After OverSampling, counts of label '1': 18691\n",
      "After OverSampling, counts of label '0': 18691\n"
     ]
    }
   ],
   "source": [
    "from imblearn.over_sampling import SMOTE\n",
    "\n",
    "X1 = df.drop(columns='Default Payment')\n",
    "y1 = df['Default Payment']\n",
    "\n",
    "X1_train, X1_test, y1_train, y1_test = train_test_split(X1, y1, test_size=0.2,stratify=y, random_state=42)\n",
    "print(X1_train.shape, X1_test.shape, y1_train.shape, y1_test.shape)\n",
    "\n",
    "print(\"Before OverSampling, counts of label '1': {}\".format(sum(y1_train == 1))) \n",
    "print(\"Before OverSampling, counts of label '0': {} \\n\".format(sum(y1_train == 0))) \n",
    "  \n",
    "# import SMOTE module from imblearn library \n",
    "from imblearn.over_sampling import SMOTE \n",
    "sm = SMOTE(random_state = 2) \n",
    "X_train_res, y_train_res = sm.fit_sample(X1_train, y1_train) \n",
    "\n",
    "print('After OverSampling, the shape of train_X: {}'.format(X_train_res.shape)) \n",
    "print('After OverSampling, the shape of train_y: {} \\n'.format(y_train_res.shape)) \n",
    "  \n",
    "print(\"After OverSampling, counts of label '1': {}\".format(sum(y_train_res == 1))) \n",
    "print(\"After OverSampling, counts of label '0': {}\".format(sum(y_train_res == 0))) "
   ]
  },
  {
   "cell_type": "code",
   "execution_count": 42,
   "metadata": {},
   "outputs": [
    {
     "name": "stdout",
     "output_type": "stream",
     "text": [
      "Fitting 4 folds for each of 5 candidates, totalling 20 fits\n"
     ]
    },
    {
     "name": "stderr",
     "output_type": "stream",
     "text": [
      "[Parallel(n_jobs=-1)]: Using backend LokyBackend with 4 concurrent workers.\n",
      "[Parallel(n_jobs=-1)]: Done  20 out of  20 | elapsed:  2.3min finished\n"
     ]
    },
    {
     "name": "stdout",
     "output_type": "stream",
     "text": [
      "{'algo__colsample_bytree': 0.4370861069626263, 'algo__gamma': 8, 'algo__learning_rate': 0.1575132049977973, 'algo__max_depth': 7, 'algo__n_estimators': 182, 'algo__reg_alpha': 0.0025113061677390002, 'algo__reg_lambda': 0.06870614282613305, 'algo__subsample': 0.4668543055695109}\n",
      "0.9484361099009633 0.8987249067074213 0.7484615963919782\n",
      "              precision    recall  f1-score   support\n",
      "\n",
      "           0       0.85      0.89      0.87      4673\n",
      "           1       0.54      0.45      0.49      1327\n",
      "\n",
      "    accuracy                           0.79      6000\n",
      "   macro avg       0.69      0.67      0.68      6000\n",
      "weighted avg       0.78      0.79      0.79      6000\n",
      "\n"
     ]
    },
    {
     "data": {
      "image/png": "[encoded data removed]",
      "text/plain": [
       "<Figure size 576x360 with 2 Axes>"
      ]
     },
     "metadata": {
      "needs_background": "light"
     },
     "output_type": "display_data"
    }
   ],
   "source": [
    "preprocessorxgb = ColumnTransformer([\n",
    "    ('numeric', num_pipe(scaling='robust'), num),\n",
    "    ('categoric', cat_pipe(encoder='onehot'), cat)\n",
    "])\n",
    "\n",
    "pipelinexgb = Pipeline([\n",
    "    ('prep', preprocessorxgb),\n",
    "    ('algo', XGBClassifier(n_jobs=-1, random_state=42))\n",
    "])\n",
    "\n",
    "model6 = RandomizedSearchCV(pipelinexgb, rsp.xgb_params, cv=4,scoring='roc_auc', n_iter=5, n_jobs=-1, verbose=1, random_state=42)\n",
    "model6.fit(X_train_res, y_train_res)\n",
    "\n",
    "print(model6.best_params_)\n",
    "print(model6.score(X_train_res, y_train_res), model6.best_score_, model6.score(X1_test, y1_test))\n",
    "\n",
    "print(classification_report(y1_test,model6.predict(X1_test)))\n",
    "\n",
    "f, ax = plt.subplots(figsize=(8,5))\n",
    "sns.heatmap(confusion_matrix(y1_test, model6.predict(X1_test)), annot=True, fmt=\".0f\", ax=ax)\n",
    "plt.xlabel(\"y Prediksi\")\n",
    "plt.ylabel(\"y Aktual\")\n",
    "plt.show()"
   ]
  },
  {
   "cell_type": "code",
   "execution_count": 43,
   "metadata": {},
   "outputs": [
    {
     "name": "stdout",
     "output_type": "stream",
     "text": [
      "Fitting 4 folds for each of 5 candidates, totalling 20 fits\n"
     ]
    },
    {
     "name": "stderr",
     "output_type": "stream",
     "text": [
      "[Parallel(n_jobs=-1)]: Using backend LokyBackend with 4 concurrent workers.\n",
      "[Parallel(n_jobs=-1)]: Done  20 out of  20 | elapsed:    8.7s finished\n"
     ]
    },
    {
     "name": "stdout",
     "output_type": "stream",
     "text": [
      "{'algo__C': 3.907967156822884, 'algo__fit_intercept': True}\n",
      "0.8773436552647375 0.8538245978673874 0.7191735105113294\n",
      "              precision    recall  f1-score   support\n",
      "\n",
      "           0       0.85      0.92      0.88      4673\n",
      "           1       0.59      0.41      0.49      1327\n",
      "\n",
      "    accuracy                           0.81      6000\n",
      "   macro avg       0.72      0.67      0.68      6000\n",
      "weighted avg       0.79      0.81      0.79      6000\n",
      "\n"
     ]
    },
    {
     "data": {
      "image/png": "[encoded data removed]",
      "text/plain": [
       "<Figure size 576x360 with 2 Axes>"
      ]
     },
     "metadata": {
      "needs_background": "light"
     },
     "output_type": "display_data"
    }
   ],
   "source": [
    "preprocessorlogreg = ColumnTransformer([\n",
    "    ('numeric', num_pipe(scaling='robust'), num),\n",
    "    ('categoric', cat_pipe(encoder='onehot'), cat)\n",
    "])\n",
    "\n",
    "\n",
    "pipelinelogreg = Pipeline([\n",
    "    ('prep', preprocessorlogreg),\n",
    "    ('algo', LogisticRegression(solver='lbfgs', n_jobs=-1, random_state=42))\n",
    "])\n",
    "\n",
    "\n",
    "model7 = RandomizedSearchCV(pipelinelogreg, rsp.logreg_params,scoring='roc_auc' ,cv=4, n_iter=5, n_jobs=-1, verbose=1, random_state=42)\n",
    "model7.fit(X_train_res, y_train_res)\n",
    "\n",
    "print(model7.best_params_)\n",
    "print(model7.score(X_train_res, y_train_res), model7.best_score_, model7.score(X1_test, y1_test))\n",
    "\n",
    "print(classification_report(y_test,model7.predict(X1_test)))\n",
    "\n",
    "f, ax = plt.subplots(figsize=(8,5))\n",
    "sns.heatmap(confusion_matrix(y1_test, model7.predict(X1_test)), annot=True, fmt=\".0f\", ax=ax)\n",
    "plt.xlabel(\"y Prediksi\")\n",
    "plt.ylabel(\"y Aktual\")\n",
    "plt.show()"
   ]
  },
  {
   "cell_type": "markdown",
   "metadata": {},
   "source": [
    "Saya memilih XGBOOST Smote sebagai final model yang akan digunakan"
   ]
  },
  {
   "cell_type": "code",
   "execution_count": 44,
   "metadata": {},
   "outputs": [
    {
     "data": {
      "image/png": "[encoded data removed]",
      "text/plain": [
       "<Figure size 1080x360 with 1 Axes>"
      ]
     },
     "metadata": {
      "needs_background": "light"
     },
     "output_type": "display_data"
    }
   ],
   "source": [
    "from jcopml.feature_importance import mean_score_decrease\n",
    "\n",
    "imp = mean_score_decrease(X_train_res, y_train_res, model6, plot=True)"
   ]
  },
  {
   "cell_type": "code",
   "execution_count": 45,
   "metadata": {},
   "outputs": [],
   "source": [
    "X_t = X_train_res[['Amount given Credit','Marital Status','Total Bill','Mean Pay Late','Repayment Sep','Total Pay']]\n",
    "# X_t = X_train_res[['Mean Pay Late','Amount given Credit','Marital Status']]\n",
    "y_t = y_train_res\n",
    "\n",
    "X_tes = X1_test[['Amount given Credit','Marital Status','Total Bill','Mean Pay Late','Repayment Sep','Total Pay']]\n",
    "# X_tes = X1_test[['Mean Pay Late','Amount given Credit','Marital Status']]\n",
    "y_tes = y1_test"
   ]
  },
  {
   "cell_type": "code",
   "execution_count": 46,
   "metadata": {},
   "outputs": [
    {
     "name": "stdout",
     "output_type": "stream",
     "text": [
      "Fitting 4 folds for each of 5 candidates, totalling 20 fits\n"
     ]
    },
    {
     "name": "stderr",
     "output_type": "stream",
     "text": [
      "[Parallel(n_jobs=-1)]: Using backend LokyBackend with 4 concurrent workers.\n",
      "[Parallel(n_jobs=-1)]: Done  20 out of  20 | elapsed:   56.0s finished\n"
     ]
    },
    {
     "name": "stdout",
     "output_type": "stream",
     "text": [
      "{'algo__colsample_bytree': 0.4370861069626263, 'algo__gamma': 8, 'algo__learning_rate': 0.1575132049977973, 'algo__max_depth': 7, 'algo__n_estimators': 182, 'algo__reg_alpha': 0.0025113061677390002, 'algo__reg_lambda': 0.06870614282613305, 'algo__subsample': 0.4668543055695109}\n",
      "0.9181335966135686 0.8925645128371894 0.7634575543482731\n",
      "              precision    recall  f1-score   support\n",
      "\n",
      "           0       0.86      0.90      0.88      4673\n",
      "           1       0.58      0.48      0.52      1327\n",
      "\n",
      "    accuracy                           0.81      6000\n",
      "   macro avg       0.72      0.69      0.70      6000\n",
      "weighted avg       0.80      0.81      0.80      6000\n",
      "\n"
     ]
    },
    {
     "data": {
      "image/png": "[encoded data removed]",
      "text/plain": [
       "<Figure size 576x360 with 2 Axes>"
      ]
     },
     "metadata": {
      "needs_background": "light"
     },
     "output_type": "display_data"
    }
   ],
   "source": [
    "preprocessorxgblast = ColumnTransformer([\n",
    "    ('numeric', num_pipe(scaling='robust'), ['Mean Pay Late','Amount given Credit',\n",
    "                                             'Total Bill','Repayment Sep','Total Pay']),\n",
    "    ('categoric', cat_pipe(encoder='onehot'), ['Marital Status'])\n",
    "])\n",
    "\n",
    "pipelinexgb = Pipeline([\n",
    "    ('prep', preprocessorxgblast),\n",
    "    ('algo', XGBClassifier(n_jobs=-1, random_state=42))\n",
    "])\n",
    "\n",
    "model8 = RandomizedSearchCV(pipelinexgb, rsp.xgb_params, cv=4,scoring='roc_auc', n_iter=5, n_jobs=-1, verbose=1, random_state=42)\n",
    "model8.fit(X_t, y_t)\n",
    "\n",
    "print(model8.best_params_)\n",
    "print(model8.score(X_t, y_t), model8.best_score_, model8.score(X_tes, y_tes))\n",
    "\n",
    "print(classification_report(y_tes,model8.predict(X_tes)))\n",
    "\n",
    "f, ax = plt.subplots(figsize=(8,5))\n",
    "sns.heatmap(confusion_matrix(y_tes, model8.predict(X_tes)), annot=True, fmt=\".0f\", ax=ax)\n",
    "plt.xlabel(\"y Prediksi\")\n",
    "plt.ylabel(\"y Aktual\")\n",
    "plt.show()"
   ]
  },
  {
   "cell_type": "code",
   "execution_count": 49,
   "metadata": {},
   "outputs": [
    {
     "data": {
      "text/plain": [
       "{'algo__colsample_bytree': 0.4370861069626263,\n",
       " 'algo__gamma': 8,\n",
       " 'algo__learning_rate': 0.1575132049977973,\n",
       " 'algo__max_depth': 7,\n",
       " 'algo__n_estimators': 182,\n",
       " 'algo__reg_alpha': 0.0025113061677390002,\n",
       " 'algo__reg_lambda': 0.06870614282613305,\n",
       " 'algo__subsample': 0.4668543055695109}"
      ]
     },
     "execution_count": 49,
     "metadata": {},
     "output_type": "execute_result"
    }
   ],
   "source": [
    "model8.best_params_"
   ]
  },
  {
   "cell_type": "code",
   "execution_count": 81,
   "metadata": {},
   "outputs": [
    {
     "name": "stdout",
     "output_type": "stream",
     "text": [
      "0.8108982932962389 0.7976666666666666\n",
      "              precision    recall  f1-score   support\n",
      "\n",
      "           0       0.87      0.87      0.87      4673\n",
      "           1       0.54      0.55      0.55      1327\n",
      "\n",
      "    accuracy                           0.80      6000\n",
      "   macro avg       0.71      0.71      0.71      6000\n",
      "weighted avg       0.80      0.80      0.80      6000\n",
      "\n"
     ]
    },
    {
     "data": {
      "image/png": "[encoded data removed]",
      "text/plain": [
       "<Figure size 576x360 with 2 Axes>"
      ]
     },
     "metadata": {
      "needs_background": "light"
     },
     "output_type": "display_data"
    }
   ],
   "source": [
    "preprocessorxgblast = ColumnTransformer([\n",
    "    ('numeric', num_pipe(scaling='robust'), ['Mean Pay Late','Amount given Credit',\n",
    "                                             'Total Bill','Repayment Sep','Total Pay']),\n",
    "    ('categoric', cat_pipe(encoder='onehot'), ['Marital Status'])\n",
    "])\n",
    "\n",
    "finalmodel = Pipeline([\n",
    "    ('prep',preprocessorxgblast), ('algo',XGBClassifier(\n",
    "        colsample_bytree = 0.4370861069626263,\n",
    "        gamma = 8,\n",
    "        learning_rate = 0.05,\n",
    "        max_depth = 4,\n",
    "        n_estimators = 182,\n",
    "        reg_alpha = 0.0025113061677390002,\n",
    "        reg_lambda = 0.06870614282613305,\n",
    "        subsample = 0.4668543055695109,\n",
    "        n_jobs=-1, \n",
    "        random_state=42))\n",
    "])\n",
    "\n",
    "finalmodel.fit(X_t, y_t)\n",
    "\n",
    "print(finalmodel.score(X_t, y_t), finalmodel.score(X_tes, y_tes))\n",
    "\n",
    "print(classification_report(y_tes,finalmodel.predict(X_tes)))\n",
    "\n",
    "f, ax = plt.subplots(figsize=(8,5))\n",
    "sns.heatmap(confusion_matrix(y_tes, finalmodel.predict(X_tes)), annot=True, fmt=\".0f\", ax=ax)\n",
    "plt.xlabel(\"y Prediksi\")\n",
    "plt.ylabel(\"y Aktual\")\n",
    "plt.show()"
   ]
  },
  {
   "cell_type": "code",
   "execution_count": 82,
   "metadata": {},
   "outputs": [
    {
     "data": {
      "image/png": "[encoded data removed]",
      "text/plain": [
       "<Figure size 1080x720 with 1 Axes>"
      ]
     },
     "metadata": {
      "needs_background": "light"
     },
     "output_type": "display_data"
    }
   ],
   "source": [
    "from sklearn.metrics import confusion_matrix, classification_report, accuracy_score, plot_roc_curve, roc_auc_score, roc_curve, f1_score\n",
    "\n",
    "plt.figure(figsize = (15,10))\n",
    "ax = plt.gca()\n",
    "\n",
    "plot_roc_curve(model1, X_test, y_test, ax=ax, name='KNN')\n",
    "plot_roc_curve(model2, X_test, y_test, ax=ax, name='LR')\n",
    "plot_roc_curve(model3, X_test, y_test, ax=ax, name='RF')\n",
    "plot_roc_curve(model4, X_test, y_test, ax=ax, name='SVC')\n",
    "plot_roc_curve(model5, X_test, y_test, ax=ax, name='XGB')\n",
    "plot_roc_curve(model6, X1_test, y1_test, ax=ax, name='XGB SMOTE')\n",
    "plot_roc_curve(model7, X1_test, y1_test, ax=ax, name='XGB Miss')\n",
    "plot_roc_curve(model8, X_tes, y_tes, ax=ax, name='XGB SMOTE FI')\n",
    "plot_roc_curve(finalmodel, X_tes, y_tes, ax=ax, name='XGB SMOTE FI FINAL')\n",
    "\n",
    "plt.title('ROC Curve')\n",
    "plt.show()"
   ]
  },
  {
   "cell_type": "code",
   "execution_count": 86,
   "metadata": {},
   "outputs": [
    {
     "name": "stdout",
     "output_type": "stream",
     "text": [
      "Model is pickled as model/finalmodel.pkl\n"
     ]
    }
   ],
   "source": [
    "# Saya memilih model RF Smote untuk disimpan\n",
    "\n",
    "save_model(finalmodel, \"finalmodel.pkl\")"
   ]
  },
  {
   "cell_type": "markdown",
   "metadata": {},
   "source": [
    "Kesimpulan : \n",
    "\n",
    "1. Final model yang dipakai adalah model XGBoost dengan Feature Importance yang sudah ditentukan\n",
    "2. Nilai TP pada final model adalah 731\n",
    "3. Nilai TN pada final model adalah 4055\n",
    "4. Nilai FP pada final model adalah 618\n",
    "5. Nilai FN pada final model adalah 596\n",
    "6. Nilai recall positive pada final model = TP/TP+FN = 0.55\n",
    "7. Nilai recall negative pada final model = TN/TN+FP = 0.87\n",
    "8. Nilai presisi positive pada final model = TP/TP+FP = 0.54\n",
    "9. Nilai presisi negative pada final model = TN/TN+FN = 0.87\n",
    "10. Score ROC-AUC pada final model = 0.77\n",
    "11. Nilai Akurasi pada final model = 0.8"
   ]
  },
  {
   "cell_type": "code",
   "execution_count": null,
   "metadata": {},
   "outputs": [],
   "source": []
  }
 ],
 "metadata": {
  "kernelspec": {
   "display_name": "Python 3",
   "language": "python",
   "name": "python3"
  },
  "language_info": {
   "codemirror_mode": {
    "name": "ipython",
    "version": 3
   },
   "file_extension": ".py",
   "mimetype": "text/x-python",
   "name": "python",
   "nbconvert_exporter": "python",
   "pygments_lexer": "ipython3",
   "version": "3.7.4"
  }
 },
 "nbformat": 4,
 "nbformat_minor": 4
}
